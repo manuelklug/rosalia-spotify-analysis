{
 "cells": [
  {
   "cell_type": "markdown",
   "id": "6c4e5033",
   "metadata": {
    "slideshow": {
     "slide_type": "slide"
    }
   },
   "source": [
    "# Rosalía Albums Analysis"
   ]
  },
  {
   "cell_type": "markdown",
   "id": "92ad0fcf",
   "metadata": {
    "slideshow": {
     "slide_type": "fragment"
    }
   },
   "source": [
    "We’ll try to do unsupervised learning by clustering the Rosalía Spotify data using K-means. The dataset was obtained using the Spotipy library, executing the get_data function (see get_data.py)."
   ]
  },
  {
   "cell_type": "markdown",
   "id": "59ef96a9",
   "metadata": {
    "slideshow": {
     "slide_type": "skip"
    }
   },
   "source": [
    "## Importing libraries"
   ]
  },
  {
   "cell_type": "code",
   "execution_count": 1,
   "id": "08c119db",
   "metadata": {
    "slideshow": {
     "slide_type": "skip"
    }
   },
   "outputs": [],
   "source": [
    "# import required libraries for dataframe and visualization\n",
    "import numpy as np\n",
    "import pandas as pd\n",
    "import matplotlib.pyplot as plt\n",
    "import seaborn as sns\n",
    "\n",
    "# import required libraries for clustering\n",
    "from sklearn.cluster import KMeans\n",
    "from sklearn.preprocessing import StandardScaler\n",
    "from sklearn.metrics import silhouette_score\n",
    "\n",
    "import warnings\n",
    "\n",
    "%matplotlib inline\n",
    "\n",
    "sns.set_theme(style=\"ticks\")\n",
    "\n",
    "warnings.simplefilter(\"ignore\")"
   ]
  },
  {
   "cell_type": "markdown",
   "id": "0e5c85fd",
   "metadata": {
    "slideshow": {
     "slide_type": "skip"
    }
   },
   "source": [
    "## Data Import"
   ]
  },
  {
   "cell_type": "code",
   "execution_count": 2,
   "id": "ef9dd200",
   "metadata": {
    "slideshow": {
     "slide_type": "skip"
    }
   },
   "outputs": [],
   "source": [
    "df = pd.read_csv(\"data/artist_tracks.csv\")"
   ]
  },
  {
   "cell_type": "code",
   "execution_count": 3,
   "id": "1e40b066",
   "metadata": {
    "slideshow": {
     "slide_type": "skip"
    }
   },
   "outputs": [
    {
     "data": {
      "text/html": [
       "<div>\n",
       "<style scoped>\n",
       "    .dataframe tbody tr th:only-of-type {\n",
       "        vertical-align: middle;\n",
       "    }\n",
       "\n",
       "    .dataframe tbody tr th {\n",
       "        vertical-align: top;\n",
       "    }\n",
       "\n",
       "    .dataframe thead th {\n",
       "        text-align: right;\n",
       "    }\n",
       "</style>\n",
       "<table border=\"1\" class=\"dataframe\">\n",
       "  <thead>\n",
       "    <tr style=\"text-align: right;\">\n",
       "      <th></th>\n",
       "      <th>album_name</th>\n",
       "      <th>track_number</th>\n",
       "      <th>song_title</th>\n",
       "      <th>id</th>\n",
       "      <th>duration</th>\n",
       "      <th>acousticness</th>\n",
       "      <th>danceability</th>\n",
       "      <th>energy</th>\n",
       "      <th>instrumentalness</th>\n",
       "      <th>key</th>\n",
       "      <th>liveness</th>\n",
       "      <th>loudness</th>\n",
       "      <th>mode</th>\n",
       "      <th>speechiness</th>\n",
       "      <th>tempo</th>\n",
       "      <th>time_signature</th>\n",
       "      <th>valence</th>\n",
       "    </tr>\n",
       "  </thead>\n",
       "  <tbody>\n",
       "    <tr>\n",
       "      <th>0</th>\n",
       "      <td>MOTOMAMI</td>\n",
       "      <td>1</td>\n",
       "      <td>SAOKO</td>\n",
       "      <td>2FYGZDfsAnNsrm1gVbyKnG</td>\n",
       "      <td>137533</td>\n",
       "      <td>0.790</td>\n",
       "      <td>0.827</td>\n",
       "      <td>0.768</td>\n",
       "      <td>0.000024</td>\n",
       "      <td>0</td>\n",
       "      <td>0.4970</td>\n",
       "      <td>-5.702</td>\n",
       "      <td>1</td>\n",
       "      <td>0.2650</td>\n",
       "      <td>99.988</td>\n",
       "      <td>4</td>\n",
       "      <td>0.734</td>\n",
       "    </tr>\n",
       "    <tr>\n",
       "      <th>1</th>\n",
       "      <td>MOTOMAMI</td>\n",
       "      <td>2</td>\n",
       "      <td>CANDY</td>\n",
       "      <td>70AYiGbc4mWZGEqiipBBDb</td>\n",
       "      <td>193480</td>\n",
       "      <td>0.885</td>\n",
       "      <td>0.638</td>\n",
       "      <td>0.490</td>\n",
       "      <td>0.011600</td>\n",
       "      <td>4</td>\n",
       "      <td>0.1560</td>\n",
       "      <td>-5.726</td>\n",
       "      <td>0</td>\n",
       "      <td>0.2260</td>\n",
       "      <td>179.905</td>\n",
       "      <td>4</td>\n",
       "      <td>0.403</td>\n",
       "    </tr>\n",
       "    <tr>\n",
       "      <th>2</th>\n",
       "      <td>MOTOMAMI</td>\n",
       "      <td>3</td>\n",
       "      <td>LA FAMA (with The Weeknd)</td>\n",
       "      <td>6Y46tOTRhkBamosyuWa6YX</td>\n",
       "      <td>188106</td>\n",
       "      <td>0.947</td>\n",
       "      <td>0.766</td>\n",
       "      <td>0.295</td>\n",
       "      <td>0.000044</td>\n",
       "      <td>0</td>\n",
       "      <td>0.1190</td>\n",
       "      <td>-7.893</td>\n",
       "      <td>0</td>\n",
       "      <td>0.0464</td>\n",
       "      <td>136.016</td>\n",
       "      <td>4</td>\n",
       "      <td>0.805</td>\n",
       "    </tr>\n",
       "    <tr>\n",
       "      <th>3</th>\n",
       "      <td>MOTOMAMI</td>\n",
       "      <td>4</td>\n",
       "      <td>BULERÍAS</td>\n",
       "      <td>5tmrMIajDQRBcJQPaoAGdk</td>\n",
       "      <td>155880</td>\n",
       "      <td>0.932</td>\n",
       "      <td>0.774</td>\n",
       "      <td>0.458</td>\n",
       "      <td>0.000122</td>\n",
       "      <td>0</td>\n",
       "      <td>0.1910</td>\n",
       "      <td>-6.301</td>\n",
       "      <td>1</td>\n",
       "      <td>0.3030</td>\n",
       "      <td>127.330</td>\n",
       "      <td>3</td>\n",
       "      <td>0.757</td>\n",
       "    </tr>\n",
       "    <tr>\n",
       "      <th>4</th>\n",
       "      <td>MOTOMAMI</td>\n",
       "      <td>5</td>\n",
       "      <td>CHICKEN TERIYAKI</td>\n",
       "      <td>6hH6QJ9ZAO0Z6m7PfvLoXW</td>\n",
       "      <td>122226</td>\n",
       "      <td>0.454</td>\n",
       "      <td>0.788</td>\n",
       "      <td>0.400</td>\n",
       "      <td>0.000141</td>\n",
       "      <td>2</td>\n",
       "      <td>0.0686</td>\n",
       "      <td>-6.454</td>\n",
       "      <td>1</td>\n",
       "      <td>0.1150</td>\n",
       "      <td>97.936</td>\n",
       "      <td>4</td>\n",
       "      <td>0.558</td>\n",
       "    </tr>\n",
       "  </tbody>\n",
       "</table>\n",
       "</div>"
      ],
      "text/plain": [
       "  album_name  track_number                 song_title                      id  \\\n",
       "0   MOTOMAMI             1                      SAOKO  2FYGZDfsAnNsrm1gVbyKnG   \n",
       "1   MOTOMAMI             2                      CANDY  70AYiGbc4mWZGEqiipBBDb   \n",
       "2   MOTOMAMI             3  LA FAMA (with The Weeknd)  6Y46tOTRhkBamosyuWa6YX   \n",
       "3   MOTOMAMI             4                   BULERÍAS  5tmrMIajDQRBcJQPaoAGdk   \n",
       "4   MOTOMAMI             5           CHICKEN TERIYAKI  6hH6QJ9ZAO0Z6m7PfvLoXW   \n",
       "\n",
       "   duration  acousticness  danceability  energy  instrumentalness  key  \\\n",
       "0    137533         0.790         0.827   0.768          0.000024    0   \n",
       "1    193480         0.885         0.638   0.490          0.011600    4   \n",
       "2    188106         0.947         0.766   0.295          0.000044    0   \n",
       "3    155880         0.932         0.774   0.458          0.000122    0   \n",
       "4    122226         0.454         0.788   0.400          0.000141    2   \n",
       "\n",
       "   liveness  loudness  mode  speechiness    tempo  time_signature  valence  \n",
       "0    0.4970    -5.702     1       0.2650   99.988               4    0.734  \n",
       "1    0.1560    -5.726     0       0.2260  179.905               4    0.403  \n",
       "2    0.1190    -7.893     0       0.0464  136.016               4    0.805  \n",
       "3    0.1910    -6.301     1       0.3030  127.330               3    0.757  \n",
       "4    0.0686    -6.454     1       0.1150   97.936               4    0.558  "
      ]
     },
     "execution_count": 3,
     "metadata": {},
     "output_type": "execute_result"
    }
   ],
   "source": [
    "df.head()"
   ]
  },
  {
   "cell_type": "code",
   "execution_count": 4,
   "id": "0e3d1752",
   "metadata": {
    "slideshow": {
     "slide_type": "skip"
    }
   },
   "outputs": [
    {
     "data": {
      "text/plain": [
       "Index(['album_name', 'track_number', 'song_title', 'id', 'duration',\n",
       "       'acousticness', 'danceability', 'energy', 'instrumentalness', 'key',\n",
       "       'liveness', 'loudness', 'mode', 'speechiness', 'tempo',\n",
       "       'time_signature', 'valence'],\n",
       "      dtype='object')"
      ]
     },
     "execution_count": 4,
     "metadata": {},
     "output_type": "execute_result"
    }
   ],
   "source": [
    "df.columns"
   ]
  },
  {
   "cell_type": "code",
   "execution_count": 5,
   "id": "39d3dad5",
   "metadata": {
    "slideshow": {
     "slide_type": "skip"
    }
   },
   "outputs": [
    {
     "data": {
      "text/plain": [
       "album_name           object\n",
       "track_number          int64\n",
       "song_title           object\n",
       "id                   object\n",
       "duration              int64\n",
       "acousticness        float64\n",
       "danceability        float64\n",
       "energy              float64\n",
       "instrumentalness    float64\n",
       "key                   int64\n",
       "liveness            float64\n",
       "loudness            float64\n",
       "mode                  int64\n",
       "speechiness         float64\n",
       "tempo               float64\n",
       "time_signature        int64\n",
       "valence             float64\n",
       "dtype: object"
      ]
     },
     "execution_count": 5,
     "metadata": {},
     "output_type": "execute_result"
    }
   ],
   "source": [
    "df.dtypes"
   ]
  },
  {
   "cell_type": "markdown",
   "id": "ec24f46d",
   "metadata": {
    "slideshow": {
     "slide_type": "skip"
    }
   },
   "source": [
    "The description of columns:\n",
    "\n",
    "`album_name`: The album name \n",
    "\n",
    "`track_number`: The track number of the song in the album\n",
    "\n",
    "`song_title`: The song name.\n",
    "\n",
    "`id`: The Spotify ID for the track \n",
    "\n",
    "`acousticness`: A confidence measure from 0.0 to 1.0 of whether the track is acoustic. 1.0 represents high confidence the track is acoustic.\n",
    "\n",
    "`danceability`: Danceability describes how suitable a track is for dancing based on a combination of musical elements including tempo, rhythm stability, beat strength, and overall regularity. A value of 0.0 is least danceable and 1.0 is most danceable.\n",
    "\n",
    "`duration`: The duration of the track in milliseconds.\n",
    "\n",
    "`energy`: Energy is a measure from 0.0 to 1.0 and represents a perceptual measure of intensity and activity. Typically, energetic tracks feel fast, loud, and noisy. For example, death metal has high energy, while a Bach prelude scores low on the scale. Perceptual features contributing to this attribute include dynamic range, perceived loudness, timbre, onset rate, and general entropy.\n",
    "\n",
    "`instrumentalness`: Predicts whether a track contains no vocals. “Ooh” and “aah” sounds are treated as instrumental in this context. Rap or spoken word tracks are clearly “vocal”. The closer the instrumentalness value is to 1.0, the greater likelihood the track contains no vocal content. Values above 0.5 are intended to represent instrumental tracks, but confidence is higher as the value approaches 1.0.\n",
    "\n",
    "`key`: The estimated overall key of the track. Integers map to pitches using standard Pitch Class notation . E.g. 0 = C, 1 = C♯/D♭, 2 = D, and so on. If no key was detected, the value is -1.\n",
    "\n",
    "`liveness`: Detects the presence of an audience in the recording. Higher liveness values represent an increased probability that the track was performed live. A value above 0.8 provides strong likelihood that the track is live.\n",
    "\n",
    "`loudness`: The overall loudness of a track in decibels (dB). Loudness values are averaged across the entire track and are useful for comparing relative loudness of tracks. Loudness is the quality of a sound that is the primary psychological correlate of physical strength (amplitude). Values typical range between -60 and 0 db.\n",
    "\n",
    "`mode`: Mode indicates the modality (major or minor) of a track, the type of scale from which its melodic content is derived. Major is represented by 1 and minor is 0.\n",
    "\n",
    "`speechiness`: Speechiness detects the presence of spoken words in a track. The more exclusively speech-like the recording (e.g. talk show, audio book, poetry), the closer to 1.0 the attribute value. Values above 0.66 describe tracks that are probably made entirely of spoken words. Values between 0.33 and 0.66 describe tracks that may contain both music and speech, either in sections or layered, including such cases as rap music. Values below 0.33 most likely represent music and other non-speech-like tracks.\n",
    "\n",
    "`tempo`: The overall estimated tempo of a track in beats per minute (BPM). In musical terminology, tempo is the speed or pace of a given piece and derives directly from the average beat duration.\n",
    "\n",
    "`time_signature`: An estimated overall time signature of a track. The time signature (meter) is a notational convention to specify how many beats are in each bar (or measure).\n",
    "\n",
    "`valence`: A measure from 0.0 to 1.0 describing the musical positiveness conveyed by a track. Tracks with high valence sound more positive (e.g. happy, cheerful, euphoric), while tracks with low valence sound more negative (e.g. sad, depressed, angry)."
   ]
  },
  {
   "cell_type": "code",
   "execution_count": 6,
   "id": "0247246c",
   "metadata": {
    "slideshow": {
     "slide_type": "skip"
    }
   },
   "outputs": [
    {
     "data": {
      "text/html": [
       "<div>\n",
       "<style scoped>\n",
       "    .dataframe tbody tr th:only-of-type {\n",
       "        vertical-align: middle;\n",
       "    }\n",
       "\n",
       "    .dataframe tbody tr th {\n",
       "        vertical-align: top;\n",
       "    }\n",
       "\n",
       "    .dataframe thead th {\n",
       "        text-align: right;\n",
       "    }\n",
       "</style>\n",
       "<table border=\"1\" class=\"dataframe\">\n",
       "  <thead>\n",
       "    <tr style=\"text-align: right;\">\n",
       "      <th></th>\n",
       "      <th>album_name</th>\n",
       "      <th>track_number</th>\n",
       "      <th>song_title</th>\n",
       "      <th>duration</th>\n",
       "      <th>acousticness</th>\n",
       "      <th>danceability</th>\n",
       "      <th>energy</th>\n",
       "      <th>instrumentalness</th>\n",
       "      <th>key</th>\n",
       "      <th>liveness</th>\n",
       "      <th>loudness</th>\n",
       "      <th>mode</th>\n",
       "      <th>speechiness</th>\n",
       "      <th>tempo</th>\n",
       "      <th>time_signature</th>\n",
       "      <th>valence</th>\n",
       "    </tr>\n",
       "  </thead>\n",
       "  <tbody>\n",
       "    <tr>\n",
       "      <th>0</th>\n",
       "      <td>MOTOMAMI</td>\n",
       "      <td>1</td>\n",
       "      <td>SAOKO</td>\n",
       "      <td>137.533</td>\n",
       "      <td>0.790</td>\n",
       "      <td>0.827</td>\n",
       "      <td>0.768</td>\n",
       "      <td>0.000024</td>\n",
       "      <td>0</td>\n",
       "      <td>0.4970</td>\n",
       "      <td>-5.702</td>\n",
       "      <td>1</td>\n",
       "      <td>0.2650</td>\n",
       "      <td>99.988</td>\n",
       "      <td>4</td>\n",
       "      <td>0.734</td>\n",
       "    </tr>\n",
       "    <tr>\n",
       "      <th>1</th>\n",
       "      <td>MOTOMAMI</td>\n",
       "      <td>2</td>\n",
       "      <td>CANDY</td>\n",
       "      <td>193.480</td>\n",
       "      <td>0.885</td>\n",
       "      <td>0.638</td>\n",
       "      <td>0.490</td>\n",
       "      <td>0.011600</td>\n",
       "      <td>4</td>\n",
       "      <td>0.1560</td>\n",
       "      <td>-5.726</td>\n",
       "      <td>0</td>\n",
       "      <td>0.2260</td>\n",
       "      <td>179.905</td>\n",
       "      <td>4</td>\n",
       "      <td>0.403</td>\n",
       "    </tr>\n",
       "    <tr>\n",
       "      <th>2</th>\n",
       "      <td>MOTOMAMI</td>\n",
       "      <td>3</td>\n",
       "      <td>LA FAMA (with The Weeknd)</td>\n",
       "      <td>188.106</td>\n",
       "      <td>0.947</td>\n",
       "      <td>0.766</td>\n",
       "      <td>0.295</td>\n",
       "      <td>0.000044</td>\n",
       "      <td>0</td>\n",
       "      <td>0.1190</td>\n",
       "      <td>-7.893</td>\n",
       "      <td>0</td>\n",
       "      <td>0.0464</td>\n",
       "      <td>136.016</td>\n",
       "      <td>4</td>\n",
       "      <td>0.805</td>\n",
       "    </tr>\n",
       "    <tr>\n",
       "      <th>3</th>\n",
       "      <td>MOTOMAMI</td>\n",
       "      <td>4</td>\n",
       "      <td>BULERÍAS</td>\n",
       "      <td>155.880</td>\n",
       "      <td>0.932</td>\n",
       "      <td>0.774</td>\n",
       "      <td>0.458</td>\n",
       "      <td>0.000122</td>\n",
       "      <td>0</td>\n",
       "      <td>0.1910</td>\n",
       "      <td>-6.301</td>\n",
       "      <td>1</td>\n",
       "      <td>0.3030</td>\n",
       "      <td>127.330</td>\n",
       "      <td>3</td>\n",
       "      <td>0.757</td>\n",
       "    </tr>\n",
       "    <tr>\n",
       "      <th>4</th>\n",
       "      <td>MOTOMAMI</td>\n",
       "      <td>5</td>\n",
       "      <td>CHICKEN TERIYAKI</td>\n",
       "      <td>122.226</td>\n",
       "      <td>0.454</td>\n",
       "      <td>0.788</td>\n",
       "      <td>0.400</td>\n",
       "      <td>0.000141</td>\n",
       "      <td>2</td>\n",
       "      <td>0.0686</td>\n",
       "      <td>-6.454</td>\n",
       "      <td>1</td>\n",
       "      <td>0.1150</td>\n",
       "      <td>97.936</td>\n",
       "      <td>4</td>\n",
       "      <td>0.558</td>\n",
       "    </tr>\n",
       "  </tbody>\n",
       "</table>\n",
       "</div>"
      ],
      "text/plain": [
       "  album_name  track_number                 song_title  duration  acousticness  \\\n",
       "0   MOTOMAMI             1                      SAOKO   137.533         0.790   \n",
       "1   MOTOMAMI             2                      CANDY   193.480         0.885   \n",
       "2   MOTOMAMI             3  LA FAMA (with The Weeknd)   188.106         0.947   \n",
       "3   MOTOMAMI             4                   BULERÍAS   155.880         0.932   \n",
       "4   MOTOMAMI             5           CHICKEN TERIYAKI   122.226         0.454   \n",
       "\n",
       "   danceability  energy  instrumentalness  key  liveness  loudness  mode  \\\n",
       "0         0.827   0.768          0.000024    0    0.4970    -5.702     1   \n",
       "1         0.638   0.490          0.011600    4    0.1560    -5.726     0   \n",
       "2         0.766   0.295          0.000044    0    0.1190    -7.893     0   \n",
       "3         0.774   0.458          0.000122    0    0.1910    -6.301     1   \n",
       "4         0.788   0.400          0.000141    2    0.0686    -6.454     1   \n",
       "\n",
       "   speechiness    tempo  time_signature  valence  \n",
       "0       0.2650   99.988               4    0.734  \n",
       "1       0.2260  179.905               4    0.403  \n",
       "2       0.0464  136.016               4    0.805  \n",
       "3       0.3030  127.330               3    0.757  \n",
       "4       0.1150   97.936               4    0.558  "
      ]
     },
     "execution_count": 6,
     "metadata": {},
     "output_type": "execute_result"
    }
   ],
   "source": [
    "# Transforming the duration column from miliseconds to seconds\n",
    "df[\"duration\"] = df[\"duration\"].apply(lambda x: x/1000)\n",
    "\n",
    "# Droping the ID column \n",
    "df.drop(\"id\", axis=1, inplace=True)\n",
    "\n",
    "df.head()"
   ]
  },
  {
   "cell_type": "markdown",
   "id": "5c40e90e",
   "metadata": {
    "slideshow": {
     "slide_type": "skip"
    }
   },
   "source": [
    "## Exploratory Data Analysis"
   ]
  },
  {
   "cell_type": "markdown",
   "id": "562e5c3f",
   "metadata": {
    "slideshow": {
     "slide_type": "slide"
    }
   },
   "source": [
    "## Total songs"
   ]
  },
  {
   "cell_type": "code",
   "execution_count": 7,
   "id": "bcd6d7b2",
   "metadata": {
    "slideshow": {
     "slide_type": "fragment"
    }
   },
   "outputs": [
    {
     "data": {
      "text/plain": [
       "39"
      ]
     },
     "execution_count": 7,
     "metadata": {},
     "output_type": "execute_result"
    }
   ],
   "source": [
    "len(df)"
   ]
  },
  {
   "cell_type": "markdown",
   "id": "15fefcac",
   "metadata": {
    "slideshow": {
     "slide_type": "slide"
    }
   },
   "source": [
    "## Number of songs in each album"
   ]
  },
  {
   "cell_type": "code",
   "execution_count": 8,
   "id": "17e998fd",
   "metadata": {
    "slideshow": {
     "slide_type": "skip"
    }
   },
   "outputs": [],
   "source": [
    "albums_sorted = {\"Los Ángeles\": 1, \"El Mal Querer\": 2, \"MOTOMAMI\": 3}"
   ]
  },
  {
   "cell_type": "code",
   "execution_count": 9,
   "id": "70ca86a6",
   "metadata": {
    "slideshow": {
     "slide_type": "fragment"
    }
   },
   "outputs": [
    {
     "data": {
      "text/html": [
       "<div>\n",
       "<style scoped>\n",
       "    .dataframe tbody tr th:only-of-type {\n",
       "        vertical-align: middle;\n",
       "    }\n",
       "\n",
       "    .dataframe tbody tr th {\n",
       "        vertical-align: top;\n",
       "    }\n",
       "\n",
       "    .dataframe thead th {\n",
       "        text-align: right;\n",
       "    }\n",
       "</style>\n",
       "<table border=\"1\" class=\"dataframe\">\n",
       "  <thead>\n",
       "    <tr style=\"text-align: right;\">\n",
       "      <th></th>\n",
       "      <th>album_name</th>\n",
       "      <th>total_songs</th>\n",
       "    </tr>\n",
       "  </thead>\n",
       "  <tbody>\n",
       "    <tr>\n",
       "      <th>1</th>\n",
       "      <td>Los Ángeles</td>\n",
       "      <td>12</td>\n",
       "    </tr>\n",
       "    <tr>\n",
       "      <th>0</th>\n",
       "      <td>El Mal Querer</td>\n",
       "      <td>11</td>\n",
       "    </tr>\n",
       "    <tr>\n",
       "      <th>2</th>\n",
       "      <td>MOTOMAMI</td>\n",
       "      <td>16</td>\n",
       "    </tr>\n",
       "  </tbody>\n",
       "</table>\n",
       "</div>"
      ],
      "text/plain": [
       "      album_name  total_songs\n",
       "1    Los Ángeles           12\n",
       "0  El Mal Querer           11\n",
       "2       MOTOMAMI           16"
      ]
     },
     "execution_count": 9,
     "metadata": {},
     "output_type": "execute_result"
    }
   ],
   "source": [
    "albums_number_of_tracks = (df[[\"album_name\", \"track_number\"]]\n",
    " .groupby(\"album_name\").max()\n",
    " .reset_index()\n",
    " .rename(columns={\"track_number\": \"total_songs\"})\n",
    " .sort_values(by=[\"album_name\"], \n",
    "              key=lambda x: x.map(albums_sorted))\n",
    ")\n",
    "\n",
    "albums_number_of_tracks"
   ]
  },
  {
   "cell_type": "code",
   "execution_count": 10,
   "id": "916b7b95",
   "metadata": {
    "slideshow": {
     "slide_type": "skip"
    }
   },
   "outputs": [],
   "source": [
    "album_colors = {\"MOTOMAMI\": \"#C71818\", \"El Mal Querer\": \"#6CB1A0\", \"Los Ángeles\": \"#2A2A2A\"}"
   ]
  },
  {
   "cell_type": "code",
   "execution_count": 11,
   "id": "610ddeec",
   "metadata": {
    "slideshow": {
     "slide_type": "slide"
    },
    "tags": [
     "to_remove"
    ]
   },
   "outputs": [
    {
     "data": {
      "image/png": "[encoded data removed]",
      "text/plain": [
       "<Figure size 576x360 with 1 Axes>"
      ]
     },
     "metadata": {},
     "output_type": "display_data"
    }
   ],
   "source": [
    "fig, ax = plt.subplots(figsize=(8, 5))\n",
    "\n",
    "sns.barplot(x=\"album_name\", y=\"total_songs\", \n",
    "            data=albums_number_of_tracks, \n",
    "            palette=album_colors,\n",
    "            label=\"Total\", ax=ax)\n",
    "\n",
    "ax.set(xlabel=\"Album name\", ylabel=\"# of songs\")\n",
    "\n",
    "ax.set_title(\"# of songs per album\", \n",
    "             fontweight=\"bold\", \n",
    "             fontsize=15)\n",
    "\n",
    "plt.show()"
   ]
  },
  {
   "cell_type": "markdown",
   "id": "e44be40b",
   "metadata": {
    "slideshow": {
     "slide_type": "slide"
    }
   },
   "source": [
    "## Songs' length statistics"
   ]
  },
  {
   "cell_type": "code",
   "execution_count": 12,
   "id": "21606f93",
   "metadata": {
    "slideshow": {
     "slide_type": "fragment"
    }
   },
   "outputs": [
    {
     "data": {
      "text/html": [
       "<div>\n",
       "<style scoped>\n",
       "    .dataframe tbody tr th:only-of-type {\n",
       "        vertical-align: middle;\n",
       "    }\n",
       "\n",
       "    .dataframe tbody tr th {\n",
       "        vertical-align: top;\n",
       "    }\n",
       "\n",
       "    .dataframe thead th {\n",
       "        text-align: right;\n",
       "    }\n",
       "</style>\n",
       "<table border=\"1\" class=\"dataframe\">\n",
       "  <thead>\n",
       "    <tr style=\"text-align: right;\">\n",
       "      <th></th>\n",
       "      <th>album_name</th>\n",
       "      <th>min</th>\n",
       "      <th>max</th>\n",
       "      <th>mean</th>\n",
       "      <th>std</th>\n",
       "    </tr>\n",
       "  </thead>\n",
       "  <tbody>\n",
       "    <tr>\n",
       "      <th>0</th>\n",
       "      <td>El Mal Querer</td>\n",
       "      <td>40.690</td>\n",
       "      <td>269.538</td>\n",
       "      <td>165.31600</td>\n",
       "      <td>60.155417</td>\n",
       "    </tr>\n",
       "    <tr>\n",
       "      <th>2</th>\n",
       "      <td>MOTOMAMI</td>\n",
       "      <td>61.346</td>\n",
       "      <td>262.200</td>\n",
       "      <td>159.08475</td>\n",
       "      <td>55.270765</td>\n",
       "    </tr>\n",
       "    <tr>\n",
       "      <th>1</th>\n",
       "      <td>Los Ángeles</td>\n",
       "      <td>88.545</td>\n",
       "      <td>366.058</td>\n",
       "      <td>245.86400</td>\n",
       "      <td>84.633363</td>\n",
       "    </tr>\n",
       "  </tbody>\n",
       "</table>\n",
       "</div>"
      ],
      "text/plain": [
       "      album_name     min      max       mean        std\n",
       "0  El Mal Querer  40.690  269.538  165.31600  60.155417\n",
       "2       MOTOMAMI  61.346  262.200  159.08475  55.270765\n",
       "1    Los Ángeles  88.545  366.058  245.86400  84.633363"
      ]
     },
     "execution_count": 12,
     "metadata": {},
     "output_type": "execute_result"
    }
   ],
   "source": [
    "(df.groupby(\"album_name\")[\"duration\"]\n",
    " .agg([\"min\", \"max\", \"mean\", \"std\"])\n",
    " .reset_index()\n",
    " .sort_values(by=\"min\")\n",
    ")"
   ]
  },
  {
   "cell_type": "code",
   "execution_count": 13,
   "id": "2bc6f633",
   "metadata": {
    "slideshow": {
     "slide_type": "slide"
    },
    "tags": [
     "to_remove"
    ]
   },
   "outputs": [
    {
     "data": {
      "image/png": "[encoded data removed]",
      "text/plain": [
       "<Figure size 360x504 with 1 Axes>"
      ]
     },
     "metadata": {},
     "output_type": "display_data"
    }
   ],
   "source": [
    "fig, ax = plt.subplots(figsize=(5, 7))\n",
    "\n",
    "sns.boxplot(x=\"album_name\", y=\"duration\", \n",
    "            data=df, palette=album_colors, ax=ax)\n",
    "\n",
    "ax.set(xlabel=\"Album name\", ylabel=\"# of songs\")\n",
    "\n",
    "ax.set_title(\"Songs length per album\", \n",
    "             fontweight=\"bold\", \n",
    "             fontsize=15)\n",
    "\n",
    "plt.show()"
   ]
  },
  {
   "cell_type": "markdown",
   "id": "24ee0795",
   "metadata": {
    "slideshow": {
     "slide_type": "slide"
    }
   },
   "source": [
    "## Correlation between columns"
   ]
  },
  {
   "cell_type": "code",
   "execution_count": 14,
   "id": "c900a906",
   "metadata": {
    "slideshow": {
     "slide_type": "fragment"
    },
    "tags": [
     "to_remove"
    ]
   },
   "outputs": [
    {
     "data": {
      "image/png": "[encoded data removed]",
      "text/plain": [
       "<Figure size 864x720 with 2 Axes>"
      ]
     },
     "metadata": {},
     "output_type": "display_data"
    }
   ],
   "source": [
    "plt.figure(figsize=(12, 10))\n",
    "corr = df.corr()\n",
    "sns.heatmap(corr, annot=True, \n",
    "            cmap=sns.color_palette(\"YlGnBu\"))\n",
    "plt.show()"
   ]
  },
  {
   "cell_type": "markdown",
   "id": "2415d01c",
   "metadata": {
    "slideshow": {
     "slide_type": "slide"
    }
   },
   "source": [
    "## Danceability vs. Valence"
   ]
  },
  {
   "cell_type": "markdown",
   "id": "a60fcb1f",
   "metadata": {
    "slideshow": {
     "slide_type": "fragment"
    }
   },
   "source": [
    "Let's take a look to the strongest correlation of the DataFrame (0,73) : danceability and valence."
   ]
  },
  {
   "cell_type": "code",
   "execution_count": 15,
   "id": "e5e429d1",
   "metadata": {
    "slideshow": {
     "slide_type": "subslide"
    }
   },
   "outputs": [
    {
     "data": {
      "image/png": "[encoded data removed]",
      "text/plain": [
       "<Figure size 504x576 with 1 Axes>"
      ]
     },
     "metadata": {},
     "output_type": "display_data"
    }
   ],
   "source": [
    "fig, ax = plt.subplots(figsize=(7,8))\n",
    "\n",
    "sns.scatterplot(x=\"danceability\", y=\"valence\", data=df, \n",
    "                hue=\"album_name\", palette=album_colors,\n",
    "                size=\"duration\", sizes=(50,1000),\n",
    "                ax=ax)\n",
    "\n",
    "h, labs = ax.get_legend_handles_labels()\n",
    "ax.legend(h[1:], labs[1:4], loc='best', title=\"Album name\")\n",
    "\n",
    "ax.set_title(\"Danceability vs. Valence\", \n",
    "             fontweight=\"bold\", \n",
    "             fontsize=15)\n",
    "\n",
    "plt.show()"
   ]
  },
  {
   "cell_type": "code",
   "execution_count": 16,
   "id": "23dbef8d",
   "metadata": {
    "slideshow": {
     "slide_type": "subslide"
    }
   },
   "outputs": [
    {
     "data": {
      "text/plain": [
       "Text(0.5, 1.0, 'Danceability vs. Valence')"
      ]
     },
     "execution_count": 16,
     "metadata": {},
     "output_type": "execute_result"
    },
    {
     "data": {
      "image/png": "[encoded data removed]",
      "text/plain": [
       "<Figure size 611.6x504 with 1 Axes>"
      ]
     },
     "metadata": {},
     "output_type": "display_data"
    }
   ],
   "source": [
    "sns.lmplot(x=\"danceability\", y=\"valence\", data=df, \n",
    "           hue=\"album_name\", palette=album_colors, \n",
    "           height=7)\n",
    "\n",
    "plt.title(\"Danceability vs. Valence\", \n",
    "          fontweight=\"bold\", fontsize=15)"
   ]
  },
  {
   "cell_type": "code",
   "execution_count": 17,
   "id": "467e5756",
   "metadata": {
    "slideshow": {
     "slide_type": "subslide"
    }
   },
   "outputs": [
    {
     "data": {
      "text/html": [
       "<div>\n",
       "<style scoped>\n",
       "    .dataframe tbody tr th:only-of-type {\n",
       "        vertical-align: middle;\n",
       "    }\n",
       "\n",
       "    .dataframe tbody tr th {\n",
       "        vertical-align: top;\n",
       "    }\n",
       "\n",
       "    .dataframe thead th {\n",
       "        text-align: right;\n",
       "    }\n",
       "</style>\n",
       "<table border=\"1\" class=\"dataframe\">\n",
       "  <thead>\n",
       "    <tr style=\"text-align: right;\">\n",
       "      <th></th>\n",
       "      <th>album_name</th>\n",
       "      <th>song_title</th>\n",
       "      <th>danceability</th>\n",
       "      <th>valence</th>\n",
       "    </tr>\n",
       "  </thead>\n",
       "  <tbody>\n",
       "    <tr>\n",
       "      <th>2</th>\n",
       "      <td>MOTOMAMI</td>\n",
       "      <td>LA FAMA (with The Weeknd)</td>\n",
       "      <td>0.766</td>\n",
       "      <td>0.805</td>\n",
       "    </tr>\n",
       "    <tr>\n",
       "      <th>6</th>\n",
       "      <td>MOTOMAMI</td>\n",
       "      <td>BIZCOCHITO</td>\n",
       "      <td>0.930</td>\n",
       "      <td>0.781</td>\n",
       "    </tr>\n",
       "    <tr>\n",
       "      <th>3</th>\n",
       "      <td>MOTOMAMI</td>\n",
       "      <td>BULERÍAS</td>\n",
       "      <td>0.774</td>\n",
       "      <td>0.757</td>\n",
       "    </tr>\n",
       "    <tr>\n",
       "      <th>0</th>\n",
       "      <td>MOTOMAMI</td>\n",
       "      <td>SAOKO</td>\n",
       "      <td>0.827</td>\n",
       "      <td>0.734</td>\n",
       "    </tr>\n",
       "    <tr>\n",
       "      <th>8</th>\n",
       "      <td>MOTOMAMI</td>\n",
       "      <td>MOTOMAMI</td>\n",
       "      <td>0.887</td>\n",
       "      <td>0.686</td>\n",
       "    </tr>\n",
       "    <tr>\n",
       "      <th>4</th>\n",
       "      <td>MOTOMAMI</td>\n",
       "      <td>CHICKEN TERIYAKI</td>\n",
       "      <td>0.788</td>\n",
       "      <td>0.558</td>\n",
       "    </tr>\n",
       "    <tr>\n",
       "      <th>23</th>\n",
       "      <td>El Mal Querer</td>\n",
       "      <td>DI MI NOMBRE - Cap.8: Éxtasis</td>\n",
       "      <td>0.794</td>\n",
       "      <td>0.547</td>\n",
       "    </tr>\n",
       "  </tbody>\n",
       "</table>\n",
       "</div>"
      ],
      "text/plain": [
       "       album_name                     song_title  danceability  valence\n",
       "2        MOTOMAMI      LA FAMA (with The Weeknd)         0.766    0.805\n",
       "6        MOTOMAMI                     BIZCOCHITO         0.930    0.781\n",
       "3        MOTOMAMI                       BULERÍAS         0.774    0.757\n",
       "0        MOTOMAMI                          SAOKO         0.827    0.734\n",
       "8        MOTOMAMI                       MOTOMAMI         0.887    0.686\n",
       "4        MOTOMAMI               CHICKEN TERIYAKI         0.788    0.558\n",
       "23  El Mal Querer  DI MI NOMBRE - Cap.8: Éxtasis         0.794    0.547"
      ]
     },
     "execution_count": 17,
     "metadata": {},
     "output_type": "execute_result"
    }
   ],
   "source": [
    "(df[[\"album_name\", \"song_title\", \"danceability\", \"valence\"]]\n",
    " .sort_values(by=[\"valence\"], ascending=False)\n",
    " .head(7)\n",
    ")"
   ]
  },
  {
   "cell_type": "code",
   "execution_count": 18,
   "id": "70363340",
   "metadata": {
    "slideshow": {
     "slide_type": "subslide"
    }
   },
   "outputs": [
    {
     "data": {
      "text/html": [
       "<div>\n",
       "<style scoped>\n",
       "    .dataframe tbody tr th:only-of-type {\n",
       "        vertical-align: middle;\n",
       "    }\n",
       "\n",
       "    .dataframe tbody tr th {\n",
       "        vertical-align: top;\n",
       "    }\n",
       "\n",
       "    .dataframe thead th {\n",
       "        text-align: right;\n",
       "    }\n",
       "</style>\n",
       "<table border=\"1\" class=\"dataframe\">\n",
       "  <thead>\n",
       "    <tr style=\"text-align: right;\">\n",
       "      <th></th>\n",
       "      <th>song_title</th>\n",
       "      <th>danceability</th>\n",
       "      <th>valence</th>\n",
       "    </tr>\n",
       "  </thead>\n",
       "  <tbody>\n",
       "    <tr>\n",
       "      <th>2</th>\n",
       "      <td>LA FAMA (with The Weeknd)</td>\n",
       "      <td>0.766</td>\n",
       "      <td>0.805</td>\n",
       "    </tr>\n",
       "    <tr>\n",
       "      <th>6</th>\n",
       "      <td>BIZCOCHITO</td>\n",
       "      <td>0.930</td>\n",
       "      <td>0.781</td>\n",
       "    </tr>\n",
       "    <tr>\n",
       "      <th>3</th>\n",
       "      <td>BULERÍAS</td>\n",
       "      <td>0.774</td>\n",
       "      <td>0.757</td>\n",
       "    </tr>\n",
       "    <tr>\n",
       "      <th>0</th>\n",
       "      <td>SAOKO</td>\n",
       "      <td>0.827</td>\n",
       "      <td>0.734</td>\n",
       "    </tr>\n",
       "    <tr>\n",
       "      <th>8</th>\n",
       "      <td>MOTOMAMI</td>\n",
       "      <td>0.887</td>\n",
       "      <td>0.686</td>\n",
       "    </tr>\n",
       "    <tr>\n",
       "      <th>4</th>\n",
       "      <td>CHICKEN TERIYAKI</td>\n",
       "      <td>0.788</td>\n",
       "      <td>0.558</td>\n",
       "    </tr>\n",
       "    <tr>\n",
       "      <th>14</th>\n",
       "      <td>LA COMBI VERSACE (feat. Tokischa)</td>\n",
       "      <td>0.835</td>\n",
       "      <td>0.426</td>\n",
       "    </tr>\n",
       "    <tr>\n",
       "      <th>1</th>\n",
       "      <td>CANDY</td>\n",
       "      <td>0.638</td>\n",
       "      <td>0.403</td>\n",
       "    </tr>\n",
       "  </tbody>\n",
       "</table>\n",
       "</div>"
      ],
      "text/plain": [
       "                           song_title  danceability  valence\n",
       "2           LA FAMA (with The Weeknd)         0.766    0.805\n",
       "6                          BIZCOCHITO         0.930    0.781\n",
       "3                            BULERÍAS         0.774    0.757\n",
       "0                               SAOKO         0.827    0.734\n",
       "8                            MOTOMAMI         0.887    0.686\n",
       "4                    CHICKEN TERIYAKI         0.788    0.558\n",
       "14  LA COMBI VERSACE (feat. Tokischa)         0.835    0.426\n",
       "1                               CANDY         0.638    0.403"
      ]
     },
     "execution_count": 18,
     "metadata": {},
     "output_type": "execute_result"
    }
   ],
   "source": [
    "(df[[\"song_title\", \"danceability\", \"valence\"]]\n",
    " .loc[(df[\"album_name\"] == \"MOTOMAMI\") & (df[\"valence\"] > np.mean(df[\"valence\"]))]\n",
    " .sort_values(by=\"valence\", ascending=False)\n",
    ")"
   ]
  },
  {
   "cell_type": "code",
   "execution_count": 19,
   "id": "5e731dab",
   "metadata": {
    "slideshow": {
     "slide_type": "subslide"
    }
   },
   "outputs": [
    {
     "data": {
      "text/html": [
       "<div>\n",
       "<style scoped>\n",
       "    .dataframe tbody tr th:only-of-type {\n",
       "        vertical-align: middle;\n",
       "    }\n",
       "\n",
       "    .dataframe tbody tr th {\n",
       "        vertical-align: top;\n",
       "    }\n",
       "\n",
       "    .dataframe thead th {\n",
       "        text-align: right;\n",
       "    }\n",
       "</style>\n",
       "<table border=\"1\" class=\"dataframe\">\n",
       "  <thead>\n",
       "    <tr style=\"text-align: right;\">\n",
       "      <th></th>\n",
       "      <th>song_title</th>\n",
       "      <th>danceability</th>\n",
       "      <th>valence</th>\n",
       "    </tr>\n",
       "  </thead>\n",
       "  <tbody>\n",
       "    <tr>\n",
       "      <th>13</th>\n",
       "      <td>Abcdefg</td>\n",
       "      <td>0.717</td>\n",
       "      <td>0.3520</td>\n",
       "    </tr>\n",
       "    <tr>\n",
       "      <th>9</th>\n",
       "      <td>DIABLO</td>\n",
       "      <td>0.753</td>\n",
       "      <td>0.3280</td>\n",
       "    </tr>\n",
       "    <tr>\n",
       "      <th>10</th>\n",
       "      <td>DELIRIO DE GRANDEZA</td>\n",
       "      <td>0.647</td>\n",
       "      <td>0.2980</td>\n",
       "    </tr>\n",
       "    <tr>\n",
       "      <th>5</th>\n",
       "      <td>HENTAI</td>\n",
       "      <td>0.583</td>\n",
       "      <td>0.2910</td>\n",
       "    </tr>\n",
       "    <tr>\n",
       "      <th>12</th>\n",
       "      <td>COMO UN G</td>\n",
       "      <td>0.496</td>\n",
       "      <td>0.2200</td>\n",
       "    </tr>\n",
       "    <tr>\n",
       "      <th>11</th>\n",
       "      <td>CUUUUuuuuuute</td>\n",
       "      <td>0.558</td>\n",
       "      <td>0.1610</td>\n",
       "    </tr>\n",
       "    <tr>\n",
       "      <th>15</th>\n",
       "      <td>SAKURA</td>\n",
       "      <td>0.317</td>\n",
       "      <td>0.1370</td>\n",
       "    </tr>\n",
       "    <tr>\n",
       "      <th>7</th>\n",
       "      <td>G3 N15</td>\n",
       "      <td>0.499</td>\n",
       "      <td>0.0998</td>\n",
       "    </tr>\n",
       "  </tbody>\n",
       "</table>\n",
       "</div>"
      ],
      "text/plain": [
       "             song_title  danceability  valence\n",
       "13              Abcdefg         0.717   0.3520\n",
       "9                DIABLO         0.753   0.3280\n",
       "10  DELIRIO DE GRANDEZA         0.647   0.2980\n",
       "5                HENTAI         0.583   0.2910\n",
       "12            COMO UN G         0.496   0.2200\n",
       "11        CUUUUuuuuuute         0.558   0.1610\n",
       "15               SAKURA         0.317   0.1370\n",
       "7                G3 N15         0.499   0.0998"
      ]
     },
     "execution_count": 19,
     "metadata": {},
     "output_type": "execute_result"
    }
   ],
   "source": [
    "(df[[\"song_title\", \"danceability\", \"valence\"]]\n",
    " .loc[(df[\"album_name\"] == \"MOTOMAMI\") & (df[\"valence\"] < np.mean(df[\"valence\"]))]\n",
    " .sort_values(by=\"valence\", ascending=False)\n",
    ")"
   ]
  },
  {
   "cell_type": "markdown",
   "id": "9a5b90a5",
   "metadata": {
    "slideshow": {
     "slide_type": "slide"
    }
   },
   "source": [
    "## Plotting some features"
   ]
  },
  {
   "cell_type": "code",
   "execution_count": 20,
   "id": "5a21ae93",
   "metadata": {
    "slideshow": {
     "slide_type": "skip"
    }
   },
   "outputs": [],
   "source": [
    "def plot_features(df: pd.DataFrame, feature: str, title_1: str, title_2: str) -> plt.Figure: \n",
    "    \"\"\"\n",
    "    Generate a figure with 2 plots:\n",
    "    - Subplot 1: An histogram of the feature (column).\n",
    "    - Subplot 2: A boxplot of the feature (column) where each box corresponds to an album.\n",
    "    \n",
    "    Args:\n",
    "    - df (pd.DataFrame): DataFrame\n",
    "    - feature (str): column of the DataFrame\n",
    "    - title_1 (str): title of the subplot 1.\n",
    "    - title_2 (str): title of the subplot 2.\n",
    "    \n",
    "    Return:\n",
    "    - Plot (plt.Figure).\n",
    "    \"\"\"\n",
    "    \n",
    "    fig, axes = plt.subplots(1,2, figsize=(15,5))\n",
    "\n",
    "    sns.histplot(x=feature, data=df, ax=axes[0], kde=True)\n",
    "\n",
    "    sns.boxplot(x=\"album_name\", y=feature, data=df, palette=album_colors, ax=axes[1])\n",
    "\n",
    "    axes[0].set_title(title_1, fontweight=\"bold\", fontsize=15)\n",
    "    axes[1].set_title(title_2, fontweight=\"bold\", fontsize=15)\n",
    "    axes[1].set_xlabel(\"Album name\")\n",
    "    \n",
    "    return plt.show()"
   ]
  },
  {
   "cell_type": "markdown",
   "id": "7f500a22",
   "metadata": {
    "slideshow": {
     "slide_type": "slide"
    }
   },
   "source": [
    "### Valence"
   ]
  },
  {
   "cell_type": "code",
   "execution_count": 21,
   "id": "4698871e",
   "metadata": {
    "slideshow": {
     "slide_type": "fragment"
    }
   },
   "outputs": [
    {
     "data": {
      "image/png": "[encoded data removed]",
      "text/plain": [
       "<Figure size 1080x360 with 2 Axes>"
      ]
     },
     "metadata": {},
     "output_type": "display_data"
    }
   ],
   "source": [
    "plot_features(df, \"valence\", \"Valence (1 = happy, 0 = sad)\", \"Valence for each album\")"
   ]
  },
  {
   "cell_type": "code",
   "execution_count": 22,
   "id": "f1a9797b",
   "metadata": {
    "slideshow": {
     "slide_type": "skip"
    }
   },
   "outputs": [
    {
     "data": {
      "text/plain": [
       "song_title    LA FAMA (with The Weeknd)\n",
       "album_name                     MOTOMAMI\n",
       "Name: 2, dtype: object"
      ]
     },
     "execution_count": 22,
     "metadata": {},
     "output_type": "execute_result"
    }
   ],
   "source": [
    "df.loc[df[\"valence\"].idxmax(), [\"song_title\", \"album_name\"]]"
   ]
  },
  {
   "cell_type": "markdown",
   "id": "dccc8a52",
   "metadata": {
    "slideshow": {
     "slide_type": "slide"
    }
   },
   "source": [
    "### Energy"
   ]
  },
  {
   "cell_type": "code",
   "execution_count": 23,
   "id": "1469df70",
   "metadata": {
    "slideshow": {
     "slide_type": "fragment"
    }
   },
   "outputs": [
    {
     "data": {
      "image/png": "[encoded data removed]",
      "text/plain": [
       "<Figure size 1080x360 with 2 Axes>"
      ]
     },
     "metadata": {},
     "output_type": "display_data"
    }
   ],
   "source": [
    "plot_features(df, \"energy\", \"Energy\", \"Energy for each album\")"
   ]
  },
  {
   "cell_type": "code",
   "execution_count": 24,
   "id": "d7b4b334",
   "metadata": {
    "slideshow": {
     "slide_type": "skip"
    }
   },
   "outputs": [
    {
     "data": {
      "text/plain": [
       "song_title    BIZCOCHITO\n",
       "album_name      MOTOMAMI\n",
       "Name: 6, dtype: object"
      ]
     },
     "execution_count": 24,
     "metadata": {},
     "output_type": "execute_result"
    }
   ],
   "source": [
    "df.loc[df[\"energy\"].idxmax(), [\"song_title\", \"album_name\"]]"
   ]
  },
  {
   "cell_type": "code",
   "execution_count": 25,
   "id": "36c078ec",
   "metadata": {
    "slideshow": {
     "slide_type": "subslide"
    }
   },
   "outputs": [
    {
     "data": {
      "text/html": [
       "<div>\n",
       "<style scoped>\n",
       "    .dataframe tbody tr th:only-of-type {\n",
       "        vertical-align: middle;\n",
       "    }\n",
       "\n",
       "    .dataframe tbody tr th {\n",
       "        vertical-align: top;\n",
       "    }\n",
       "\n",
       "    .dataframe thead th {\n",
       "        text-align: right;\n",
       "    }\n",
       "</style>\n",
       "<table border=\"1\" class=\"dataframe\">\n",
       "  <thead>\n",
       "    <tr style=\"text-align: right;\">\n",
       "      <th></th>\n",
       "      <th>song_title</th>\n",
       "      <th>album_name</th>\n",
       "      <th>energy</th>\n",
       "    </tr>\n",
       "  </thead>\n",
       "  <tbody>\n",
       "    <tr>\n",
       "      <th>6</th>\n",
       "      <td>BIZCOCHITO</td>\n",
       "      <td>MOTOMAMI</td>\n",
       "      <td>0.774</td>\n",
       "    </tr>\n",
       "    <tr>\n",
       "      <th>0</th>\n",
       "      <td>SAOKO</td>\n",
       "      <td>MOTOMAMI</td>\n",
       "      <td>0.768</td>\n",
       "    </tr>\n",
       "    <tr>\n",
       "      <th>18</th>\n",
       "      <td>PIENSO EN TU MIRÁ - Cap.3: Celos</td>\n",
       "      <td>El Mal Querer</td>\n",
       "      <td>0.676</td>\n",
       "    </tr>\n",
       "    <tr>\n",
       "      <th>17</th>\n",
       "      <td>QUE NO SALGA LA LUNA - Cap.2: Boda</td>\n",
       "      <td>El Mal Querer</td>\n",
       "      <td>0.655</td>\n",
       "    </tr>\n",
       "    <tr>\n",
       "      <th>23</th>\n",
       "      <td>DI MI NOMBRE - Cap.8: Éxtasis</td>\n",
       "      <td>El Mal Querer</td>\n",
       "      <td>0.534</td>\n",
       "    </tr>\n",
       "    <tr>\n",
       "      <th>14</th>\n",
       "      <td>LA COMBI VERSACE (feat. Tokischa)</td>\n",
       "      <td>MOTOMAMI</td>\n",
       "      <td>0.495</td>\n",
       "    </tr>\n",
       "    <tr>\n",
       "      <th>1</th>\n",
       "      <td>CANDY</td>\n",
       "      <td>MOTOMAMI</td>\n",
       "      <td>0.490</td>\n",
       "    </tr>\n",
       "  </tbody>\n",
       "</table>\n",
       "</div>"
      ],
      "text/plain": [
       "                            song_title     album_name  energy\n",
       "6                           BIZCOCHITO       MOTOMAMI   0.774\n",
       "0                                SAOKO       MOTOMAMI   0.768\n",
       "18    PIENSO EN TU MIRÁ - Cap.3: Celos  El Mal Querer   0.676\n",
       "17  QUE NO SALGA LA LUNA - Cap.2: Boda  El Mal Querer   0.655\n",
       "23       DI MI NOMBRE - Cap.8: Éxtasis  El Mal Querer   0.534\n",
       "14   LA COMBI VERSACE (feat. Tokischa)       MOTOMAMI   0.495\n",
       "1                                CANDY       MOTOMAMI   0.490"
      ]
     },
     "execution_count": 25,
     "metadata": {},
     "output_type": "execute_result"
    }
   ],
   "source": [
    "df[[\"song_title\", \"album_name\", \"energy\"]].sort_values(by=\"energy\", ascending=False).head(7)"
   ]
  },
  {
   "cell_type": "markdown",
   "id": "0ce826f3",
   "metadata": {
    "slideshow": {
     "slide_type": "slide"
    }
   },
   "source": [
    "### Tempo"
   ]
  },
  {
   "cell_type": "code",
   "execution_count": 26,
   "id": "497e0928",
   "metadata": {
    "slideshow": {
     "slide_type": "fragment"
    }
   },
   "outputs": [
    {
     "data": {
      "image/png": "[encoded data removed]",
      "text/plain": [
       "<Figure size 1080x360 with 2 Axes>"
      ]
     },
     "metadata": {},
     "output_type": "display_data"
    }
   ],
   "source": [
    "plot_features(df, \"tempo\", \"Tempo\", \"Tempo for each album\")"
   ]
  },
  {
   "cell_type": "code",
   "execution_count": 27,
   "id": "4008afd3",
   "metadata": {
    "slideshow": {
     "slide_type": "skip"
    }
   },
   "outputs": [
    {
     "data": {
      "text/plain": [
       "song_title       CANDY\n",
       "album_name    MOTOMAMI\n",
       "Name: 1, dtype: object"
      ]
     },
     "execution_count": 27,
     "metadata": {},
     "output_type": "execute_result"
    }
   ],
   "source": [
    "df.loc[df[\"tempo\"].idxmax(), [\"song_title\", \"album_name\"]]"
   ]
  },
  {
   "cell_type": "code",
   "execution_count": 28,
   "id": "7c76eb1b",
   "metadata": {
    "slideshow": {
     "slide_type": "subslide"
    }
   },
   "outputs": [
    {
     "data": {
      "text/html": [
       "<div>\n",
       "<style scoped>\n",
       "    .dataframe tbody tr th:only-of-type {\n",
       "        vertical-align: middle;\n",
       "    }\n",
       "\n",
       "    .dataframe tbody tr th {\n",
       "        vertical-align: top;\n",
       "    }\n",
       "\n",
       "    .dataframe thead th {\n",
       "        text-align: right;\n",
       "    }\n",
       "</style>\n",
       "<table border=\"1\" class=\"dataframe\">\n",
       "  <thead>\n",
       "    <tr style=\"text-align: right;\">\n",
       "      <th></th>\n",
       "      <th>song_title</th>\n",
       "      <th>album_name</th>\n",
       "      <th>tempo</th>\n",
       "    </tr>\n",
       "  </thead>\n",
       "  <tbody>\n",
       "    <tr>\n",
       "      <th>1</th>\n",
       "      <td>CANDY</td>\n",
       "      <td>MOTOMAMI</td>\n",
       "      <td>179.905</td>\n",
       "    </tr>\n",
       "    <tr>\n",
       "      <th>18</th>\n",
       "      <td>PIENSO EN TU MIRÁ - Cap.3: Celos</td>\n",
       "      <td>El Mal Querer</td>\n",
       "      <td>164.510</td>\n",
       "    </tr>\n",
       "    <tr>\n",
       "      <th>31</th>\n",
       "      <td>Día 14 De Abril</td>\n",
       "      <td>Los Ángeles</td>\n",
       "      <td>160.013</td>\n",
       "    </tr>\n",
       "    <tr>\n",
       "      <th>27</th>\n",
       "      <td>Si Tú Supieras Compañero</td>\n",
       "      <td>Los Ángeles</td>\n",
       "      <td>142.835</td>\n",
       "    </tr>\n",
       "    <tr>\n",
       "      <th>32</th>\n",
       "      <td>Que Se Muere Que Se Muere</td>\n",
       "      <td>Los Ángeles</td>\n",
       "      <td>142.064</td>\n",
       "    </tr>\n",
       "    <tr>\n",
       "      <th>11</th>\n",
       "      <td>CUUUUuuuuuute</td>\n",
       "      <td>MOTOMAMI</td>\n",
       "      <td>138.818</td>\n",
       "    </tr>\n",
       "    <tr>\n",
       "      <th>2</th>\n",
       "      <td>LA FAMA (with The Weeknd)</td>\n",
       "      <td>MOTOMAMI</td>\n",
       "      <td>136.016</td>\n",
       "    </tr>\n",
       "  </tbody>\n",
       "</table>\n",
       "</div>"
      ],
      "text/plain": [
       "                          song_title     album_name    tempo\n",
       "1                              CANDY       MOTOMAMI  179.905\n",
       "18  PIENSO EN TU MIRÁ - Cap.3: Celos  El Mal Querer  164.510\n",
       "31                   Día 14 De Abril    Los Ángeles  160.013\n",
       "27          Si Tú Supieras Compañero    Los Ángeles  142.835\n",
       "32         Que Se Muere Que Se Muere    Los Ángeles  142.064\n",
       "11                     CUUUUuuuuuute       MOTOMAMI  138.818\n",
       "2          LA FAMA (with The Weeknd)       MOTOMAMI  136.016"
      ]
     },
     "execution_count": 28,
     "metadata": {},
     "output_type": "execute_result"
    }
   ],
   "source": [
    "df[[\"song_title\", \"album_name\", \"tempo\"]].sort_values(by=\"tempo\", ascending=False).head(7)"
   ]
  },
  {
   "cell_type": "markdown",
   "id": "b8cae5fb",
   "metadata": {
    "slideshow": {
     "slide_type": "slide"
    }
   },
   "source": [
    "### Speechiness"
   ]
  },
  {
   "cell_type": "code",
   "execution_count": 29,
   "id": "65a5eb75",
   "metadata": {
    "slideshow": {
     "slide_type": "fragment"
    }
   },
   "outputs": [
    {
     "data": {
      "image/png": "[encoded data removed]",
      "text/plain": [
       "<Figure size 1080x360 with 2 Axes>"
      ]
     },
     "metadata": {},
     "output_type": "display_data"
    }
   ],
   "source": [
    "plot_features(df, \"speechiness\", \"Speechiness\", \"Speechiness for each album\")"
   ]
  },
  {
   "cell_type": "markdown",
   "id": "f772782b",
   "metadata": {
    "slideshow": {
     "slide_type": "subslide"
    }
   },
   "source": [
    "#### Songs with spoken parts"
   ]
  },
  {
   "cell_type": "code",
   "execution_count": 30,
   "id": "ab0ad65e",
   "metadata": {
    "slideshow": {
     "slide_type": "fragment"
    }
   },
   "outputs": [
    {
     "data": {
      "text/html": [
       "<div>\n",
       "<style scoped>\n",
       "    .dataframe tbody tr th:only-of-type {\n",
       "        vertical-align: middle;\n",
       "    }\n",
       "\n",
       "    .dataframe tbody tr th {\n",
       "        vertical-align: top;\n",
       "    }\n",
       "\n",
       "    .dataframe thead th {\n",
       "        text-align: right;\n",
       "    }\n",
       "</style>\n",
       "<table border=\"1\" class=\"dataframe\">\n",
       "  <thead>\n",
       "    <tr style=\"text-align: right;\">\n",
       "      <th></th>\n",
       "      <th>song_title</th>\n",
       "      <th>album_name</th>\n",
       "      <th>speechiness</th>\n",
       "    </tr>\n",
       "  </thead>\n",
       "  <tbody>\n",
       "    <tr>\n",
       "      <th>13</th>\n",
       "      <td>Abcdefg</td>\n",
       "      <td>MOTOMAMI</td>\n",
       "      <td>0.944</td>\n",
       "    </tr>\n",
       "    <tr>\n",
       "      <th>14</th>\n",
       "      <td>LA COMBI VERSACE (feat. Tokischa)</td>\n",
       "      <td>MOTOMAMI</td>\n",
       "      <td>0.522</td>\n",
       "    </tr>\n",
       "    <tr>\n",
       "      <th>8</th>\n",
       "      <td>MOTOMAMI</td>\n",
       "      <td>MOTOMAMI</td>\n",
       "      <td>0.465</td>\n",
       "    </tr>\n",
       "    <tr>\n",
       "      <th>5</th>\n",
       "      <td>HENTAI</td>\n",
       "      <td>MOTOMAMI</td>\n",
       "      <td>0.406</td>\n",
       "    </tr>\n",
       "    <tr>\n",
       "      <th>11</th>\n",
       "      <td>CUUUUuuuuuute</td>\n",
       "      <td>MOTOMAMI</td>\n",
       "      <td>0.353</td>\n",
       "    </tr>\n",
       "    <tr>\n",
       "      <th>9</th>\n",
       "      <td>DIABLO</td>\n",
       "      <td>MOTOMAMI</td>\n",
       "      <td>0.351</td>\n",
       "    </tr>\n",
       "    <tr>\n",
       "      <th>3</th>\n",
       "      <td>BULERÍAS</td>\n",
       "      <td>MOTOMAMI</td>\n",
       "      <td>0.303</td>\n",
       "    </tr>\n",
       "  </tbody>\n",
       "</table>\n",
       "</div>"
      ],
      "text/plain": [
       "                           song_title album_name  speechiness\n",
       "13                            Abcdefg   MOTOMAMI        0.944\n",
       "14  LA COMBI VERSACE (feat. Tokischa)   MOTOMAMI        0.522\n",
       "8                            MOTOMAMI   MOTOMAMI        0.465\n",
       "5                              HENTAI   MOTOMAMI        0.406\n",
       "11                      CUUUUuuuuuute   MOTOMAMI        0.353\n",
       "9                              DIABLO   MOTOMAMI        0.351\n",
       "3                            BULERÍAS   MOTOMAMI        0.303"
      ]
     },
     "execution_count": 30,
     "metadata": {},
     "output_type": "execute_result"
    }
   ],
   "source": [
    "df[[\"song_title\", \"album_name\", \"speechiness\"]].sort_values(by=\"speechiness\", ascending=False).head(7)"
   ]
  },
  {
   "cell_type": "markdown",
   "id": "038fbfd5",
   "metadata": {
    "slideshow": {
     "slide_type": "slide"
    }
   },
   "source": [
    "### Acousticness"
   ]
  },
  {
   "cell_type": "code",
   "execution_count": 31,
   "id": "98385a46",
   "metadata": {
    "slideshow": {
     "slide_type": "fragment"
    }
   },
   "outputs": [
    {
     "data": {
      "image/png": "[encoded data removed]",
      "text/plain": [
       "<Figure size 1080x360 with 2 Axes>"
      ]
     },
     "metadata": {},
     "output_type": "display_data"
    }
   ],
   "source": [
    "plot_features(df, \"acousticness\", \"Acousticness\", \"Acousticness for each album\")"
   ]
  },
  {
   "cell_type": "markdown",
   "id": "78b9b46c",
   "metadata": {
    "slideshow": {
     "slide_type": "subslide"
    }
   },
   "source": [
    "#### Most acoustic songs"
   ]
  },
  {
   "cell_type": "code",
   "execution_count": 32,
   "id": "ce9b5bb6",
   "metadata": {
    "slideshow": {
     "slide_type": "fragment"
    }
   },
   "outputs": [
    {
     "data": {
      "text/html": [
       "<div>\n",
       "<style scoped>\n",
       "    .dataframe tbody tr th:only-of-type {\n",
       "        vertical-align: middle;\n",
       "    }\n",
       "\n",
       "    .dataframe tbody tr th {\n",
       "        vertical-align: top;\n",
       "    }\n",
       "\n",
       "    .dataframe thead th {\n",
       "        text-align: right;\n",
       "    }\n",
       "</style>\n",
       "<table border=\"1\" class=\"dataframe\">\n",
       "  <thead>\n",
       "    <tr style=\"text-align: right;\">\n",
       "      <th></th>\n",
       "      <th>song_title</th>\n",
       "      <th>album_name</th>\n",
       "      <th>acousticness</th>\n",
       "    </tr>\n",
       "  </thead>\n",
       "  <tbody>\n",
       "    <tr>\n",
       "      <th>32</th>\n",
       "      <td>Que Se Muere Que Se Muere</td>\n",
       "      <td>Los Ángeles</td>\n",
       "      <td>0.978</td>\n",
       "    </tr>\n",
       "    <tr>\n",
       "      <th>29</th>\n",
       "      <td>Nos Quedamos Solitos</td>\n",
       "      <td>Los Ángeles</td>\n",
       "      <td>0.977</td>\n",
       "    </tr>\n",
       "    <tr>\n",
       "      <th>34</th>\n",
       "      <td>Te Venero</td>\n",
       "      <td>Los Ángeles</td>\n",
       "      <td>0.969</td>\n",
       "    </tr>\n",
       "    <tr>\n",
       "      <th>7</th>\n",
       "      <td>G3 N15</td>\n",
       "      <td>MOTOMAMI</td>\n",
       "      <td>0.965</td>\n",
       "    </tr>\n",
       "    <tr>\n",
       "      <th>31</th>\n",
       "      <td>Día 14 De Abril</td>\n",
       "      <td>Los Ángeles</td>\n",
       "      <td>0.964</td>\n",
       "    </tr>\n",
       "    <tr>\n",
       "      <th>12</th>\n",
       "      <td>COMO UN G</td>\n",
       "      <td>MOTOMAMI</td>\n",
       "      <td>0.962</td>\n",
       "    </tr>\n",
       "    <tr>\n",
       "      <th>36</th>\n",
       "      <td>La Hija De Juan Simón</td>\n",
       "      <td>Los Ángeles</td>\n",
       "      <td>0.961</td>\n",
       "    </tr>\n",
       "  </tbody>\n",
       "</table>\n",
       "</div>"
      ],
      "text/plain": [
       "                   song_title   album_name  acousticness\n",
       "32  Que Se Muere Que Se Muere  Los Ángeles         0.978\n",
       "29       Nos Quedamos Solitos  Los Ángeles         0.977\n",
       "34                  Te Venero  Los Ángeles         0.969\n",
       "7                      G3 N15     MOTOMAMI         0.965\n",
       "31            Día 14 De Abril  Los Ángeles         0.964\n",
       "12                  COMO UN G     MOTOMAMI         0.962\n",
       "36      La Hija De Juan Simón  Los Ángeles         0.961"
      ]
     },
     "execution_count": 32,
     "metadata": {},
     "output_type": "execute_result"
    }
   ],
   "source": [
    "df[[\"song_title\", \"album_name\", \"acousticness\"]].sort_values(by=\"acousticness\", ascending=False).head(7)"
   ]
  },
  {
   "cell_type": "markdown",
   "id": "5675b780",
   "metadata": {
    "slideshow": {
     "slide_type": "subslide"
    }
   },
   "source": [
    "#### Least acoustic songs"
   ]
  },
  {
   "cell_type": "code",
   "execution_count": 33,
   "id": "d375016d",
   "metadata": {
    "slideshow": {
     "slide_type": "fragment"
    }
   },
   "outputs": [
    {
     "data": {
      "text/html": [
       "<div>\n",
       "<style scoped>\n",
       "    .dataframe tbody tr th:only-of-type {\n",
       "        vertical-align: middle;\n",
       "    }\n",
       "\n",
       "    .dataframe tbody tr th {\n",
       "        vertical-align: top;\n",
       "    }\n",
       "\n",
       "    .dataframe thead th {\n",
       "        text-align: right;\n",
       "    }\n",
       "</style>\n",
       "<table border=\"1\" class=\"dataframe\">\n",
       "  <thead>\n",
       "    <tr style=\"text-align: right;\">\n",
       "      <th></th>\n",
       "      <th>song_title</th>\n",
       "      <th>album_name</th>\n",
       "      <th>acousticness</th>\n",
       "    </tr>\n",
       "  </thead>\n",
       "  <tbody>\n",
       "    <tr>\n",
       "      <th>18</th>\n",
       "      <td>PIENSO EN TU MIRÁ - Cap.3: Celos</td>\n",
       "      <td>El Mal Querer</td>\n",
       "      <td>0.0909</td>\n",
       "    </tr>\n",
       "    <tr>\n",
       "      <th>11</th>\n",
       "      <td>CUUUUuuuuuute</td>\n",
       "      <td>MOTOMAMI</td>\n",
       "      <td>0.1130</td>\n",
       "    </tr>\n",
       "    <tr>\n",
       "      <th>19</th>\n",
       "      <td>DE AQUÍ NO SALES - Cap.4: Disputa</td>\n",
       "      <td>El Mal Querer</td>\n",
       "      <td>0.3240</td>\n",
       "    </tr>\n",
       "    <tr>\n",
       "      <th>4</th>\n",
       "      <td>CHICKEN TERIYAKI</td>\n",
       "      <td>MOTOMAMI</td>\n",
       "      <td>0.4540</td>\n",
       "    </tr>\n",
       "    <tr>\n",
       "      <th>16</th>\n",
       "      <td>MALAMENTE - Cap.1: Augurio</td>\n",
       "      <td>El Mal Querer</td>\n",
       "      <td>0.5490</td>\n",
       "    </tr>\n",
       "  </tbody>\n",
       "</table>\n",
       "</div>"
      ],
      "text/plain": [
       "                           song_title     album_name  acousticness\n",
       "18   PIENSO EN TU MIRÁ - Cap.3: Celos  El Mal Querer        0.0909\n",
       "11                      CUUUUuuuuuute       MOTOMAMI        0.1130\n",
       "19  DE AQUÍ NO SALES - Cap.4: Disputa  El Mal Querer        0.3240\n",
       "4                    CHICKEN TERIYAKI       MOTOMAMI        0.4540\n",
       "16         MALAMENTE - Cap.1: Augurio  El Mal Querer        0.5490"
      ]
     },
     "execution_count": 33,
     "metadata": {},
     "output_type": "execute_result"
    }
   ],
   "source": [
    "df[[\"song_title\", \"album_name\", \"acousticness\"]].sort_values(by=\"acousticness\", ascending=True).head(5)"
   ]
  },
  {
   "cell_type": "markdown",
   "id": "c81e0302",
   "metadata": {
    "slideshow": {
     "slide_type": "skip"
    }
   },
   "source": [
    "_____"
   ]
  },
  {
   "cell_type": "markdown",
   "id": "6fd5e8be",
   "metadata": {
    "slideshow": {
     "slide_type": "slide"
    }
   },
   "source": [
    "# Unsupervised Learning with K-Means"
   ]
  },
  {
   "cell_type": "markdown",
   "id": "72dc8a32",
   "metadata": {
    "slideshow": {
     "slide_type": "skip"
    }
   },
   "source": [
    "## Rescaling the Attributes"
   ]
  },
  {
   "cell_type": "markdown",
   "id": "32587c52",
   "metadata": {
    "slideshow": {
     "slide_type": "skip"
    }
   },
   "source": [
    "It is extremely important to rescale the variables so that they have a comparable scale. \n",
    "\n",
    "There are two common ways of rescaling:\n",
    "- **Min-Max scaling**\n",
    "- **standardization (mean-0, sigma-1)**\n",
    "\n",
    "Here, we will use **Standardization Scaling**."
   ]
  },
  {
   "cell_type": "code",
   "execution_count": 34,
   "id": "c0f131c5",
   "metadata": {
    "slideshow": {
     "slide_type": "skip"
    }
   },
   "outputs": [
    {
     "data": {
      "text/html": [
       "<div>\n",
       "<style scoped>\n",
       "    .dataframe tbody tr th:only-of-type {\n",
       "        vertical-align: middle;\n",
       "    }\n",
       "\n",
       "    .dataframe tbody tr th {\n",
       "        vertical-align: top;\n",
       "    }\n",
       "\n",
       "    .dataframe thead th {\n",
       "        text-align: right;\n",
       "    }\n",
       "</style>\n",
       "<table border=\"1\" class=\"dataframe\">\n",
       "  <thead>\n",
       "    <tr style=\"text-align: right;\">\n",
       "      <th></th>\n",
       "      <th>album_name</th>\n",
       "      <th>song_title</th>\n",
       "      <th>danceability</th>\n",
       "      <th>valence</th>\n",
       "    </tr>\n",
       "  </thead>\n",
       "  <tbody>\n",
       "    <tr>\n",
       "      <th>0</th>\n",
       "      <td>MOTOMAMI</td>\n",
       "      <td>SAOKO</td>\n",
       "      <td>0.827</td>\n",
       "      <td>0.734</td>\n",
       "    </tr>\n",
       "    <tr>\n",
       "      <th>1</th>\n",
       "      <td>MOTOMAMI</td>\n",
       "      <td>CANDY</td>\n",
       "      <td>0.638</td>\n",
       "      <td>0.403</td>\n",
       "    </tr>\n",
       "    <tr>\n",
       "      <th>2</th>\n",
       "      <td>MOTOMAMI</td>\n",
       "      <td>LA FAMA (with The Weeknd)</td>\n",
       "      <td>0.766</td>\n",
       "      <td>0.805</td>\n",
       "    </tr>\n",
       "    <tr>\n",
       "      <th>3</th>\n",
       "      <td>MOTOMAMI</td>\n",
       "      <td>BULERÍAS</td>\n",
       "      <td>0.774</td>\n",
       "      <td>0.757</td>\n",
       "    </tr>\n",
       "    <tr>\n",
       "      <th>4</th>\n",
       "      <td>MOTOMAMI</td>\n",
       "      <td>CHICKEN TERIYAKI</td>\n",
       "      <td>0.788</td>\n",
       "      <td>0.558</td>\n",
       "    </tr>\n",
       "  </tbody>\n",
       "</table>\n",
       "</div>"
      ],
      "text/plain": [
       "  album_name                 song_title  danceability  valence\n",
       "0   MOTOMAMI                      SAOKO         0.827    0.734\n",
       "1   MOTOMAMI                      CANDY         0.638    0.403\n",
       "2   MOTOMAMI  LA FAMA (with The Weeknd)         0.766    0.805\n",
       "3   MOTOMAMI                   BULERÍAS         0.774    0.757\n",
       "4   MOTOMAMI           CHICKEN TERIYAKI         0.788    0.558"
      ]
     },
     "execution_count": 34,
     "metadata": {},
     "output_type": "execute_result"
    }
   ],
   "source": [
    "df_ml = df[['album_name', 'song_title', 'danceability', 'valence']].copy()\n",
    "df_ml.head()"
   ]
  },
  {
   "cell_type": "code",
   "execution_count": 35,
   "id": "0b10544d",
   "metadata": {
    "slideshow": {
     "slide_type": "skip"
    }
   },
   "outputs": [
    {
     "data": {
      "text/plain": [
       "(39, 2)"
      ]
     },
     "execution_count": 35,
     "metadata": {},
     "output_type": "execute_result"
    }
   ],
   "source": [
    "X = df_ml[[\"danceability\", \"valence\"]]\n",
    "\n",
    "scaler = StandardScaler()\n",
    "\n",
    "X_scaled = scaler.fit_transform(X)\n",
    "X_scaled.shape"
   ]
  },
  {
   "cell_type": "code",
   "execution_count": 36,
   "id": "f2394bf2",
   "metadata": {
    "slideshow": {
     "slide_type": "fragment"
    }
   },
   "outputs": [
    {
     "data": {
      "text/html": [
       "<div>\n",
       "<style scoped>\n",
       "    .dataframe tbody tr th:only-of-type {\n",
       "        vertical-align: middle;\n",
       "    }\n",
       "\n",
       "    .dataframe tbody tr th {\n",
       "        vertical-align: top;\n",
       "    }\n",
       "\n",
       "    .dataframe thead th {\n",
       "        text-align: right;\n",
       "    }\n",
       "</style>\n",
       "<table border=\"1\" class=\"dataframe\">\n",
       "  <thead>\n",
       "    <tr style=\"text-align: right;\">\n",
       "      <th></th>\n",
       "      <th>danceability</th>\n",
       "      <th>valence</th>\n",
       "    </tr>\n",
       "  </thead>\n",
       "  <tbody>\n",
       "    <tr>\n",
       "      <th>0</th>\n",
       "      <td>1.295314</td>\n",
       "      <td>1.902572</td>\n",
       "    </tr>\n",
       "    <tr>\n",
       "      <th>1</th>\n",
       "      <td>0.312225</td>\n",
       "      <td>0.217104</td>\n",
       "    </tr>\n",
       "    <tr>\n",
       "      <th>2</th>\n",
       "      <td>0.978020</td>\n",
       "      <td>2.264108</td>\n",
       "    </tr>\n",
       "    <tr>\n",
       "      <th>3</th>\n",
       "      <td>1.019633</td>\n",
       "      <td>2.019689</td>\n",
       "    </tr>\n",
       "    <tr>\n",
       "      <th>4</th>\n",
       "      <td>1.092454</td>\n",
       "      <td>1.006372</td>\n",
       "    </tr>\n",
       "  </tbody>\n",
       "</table>\n",
       "</div>"
      ],
      "text/plain": [
       "   danceability   valence\n",
       "0      1.295314  1.902572\n",
       "1      0.312225  0.217104\n",
       "2      0.978020  2.264108\n",
       "3      1.019633  2.019689\n",
       "4      1.092454  1.006372"
      ]
     },
     "execution_count": 36,
     "metadata": {},
     "output_type": "execute_result"
    }
   ],
   "source": [
    "df_ml_scaled = pd.DataFrame(X_scaled)\n",
    "df_ml_scaled.columns = [\"danceability\", \"valence\"]\n",
    "df_ml_scaled.head()"
   ]
  },
  {
   "cell_type": "markdown",
   "id": "96908321",
   "metadata": {
    "slideshow": {
     "slide_type": "slide"
    }
   },
   "source": [
    "## K-Means Clustering"
   ]
  },
  {
   "cell_type": "markdown",
   "id": "43c2b3fb",
   "metadata": {
    "slideshow": {
     "slide_type": "fragment"
    }
   },
   "source": [
    "K-means clustering is one of the simplest and popular unsupervised machine learning algorithms.\n",
    "\n",
    "The algorithm works as follows:\n",
    "\n",
    "- First we initialize k points, called means, randomly.\n",
    "\n",
    "- We categorize each item to its closest mean and we update the mean’s coordinates, which are the averages of the items categorized in that mean so far.\n",
    "\n",
    "- We repeat the process for a given number of iterations and at the end, we have our clusters"
   ]
  },
  {
   "cell_type": "markdown",
   "id": "06f8c971",
   "metadata": {
    "slideshow": {
     "slide_type": "slide"
    }
   },
   "source": [
    "### Finding the Optimal Number of Clusters"
   ]
  },
  {
   "cell_type": "markdown",
   "id": "1e2f004d",
   "metadata": {
    "slideshow": {
     "slide_type": "skip"
    }
   },
   "source": [
    "**Elbow Curve to get the right number of Clusters**\n",
    "\n",
    "A fundamental step for any unsupervised algorithm is to determine the optimal number of clusters into which the data may be clustered. The Elbow Method is one of the most popular methods to determine this optimal value of k."
   ]
  },
  {
   "cell_type": "code",
   "execution_count": 37,
   "id": "2f81fc22",
   "metadata": {
    "slideshow": {
     "slide_type": "fragment"
    },
    "tags": [
     "to_remove"
    ]
   },
   "outputs": [
    {
     "data": {
      "image/png": "[encoded data removed]",
      "text/plain": [
       "<Figure size 432x432 with 1 Axes>"
      ]
     },
     "metadata": {},
     "output_type": "display_data"
    }
   ],
   "source": [
    "# Elbow Curve\n",
    "\n",
    "inertia = []\n",
    "\n",
    "for num_clusters in range(1, 8):\n",
    "    kmeans = KMeans(init=\"k-means++\", n_clusters=num_clusters, max_iter=50)\n",
    "    kmeans.fit(df_ml_scaled)\n",
    "    \n",
    "    inertia.append(kmeans.inertia_)\n",
    "    \n",
    "# Plotting the Elbow Curve\n",
    "\n",
    "plt.figure(figsize=(6,6))\n",
    "plt.plot(np.arange(1, 8), inertia, \"o\", color=\"r\")\n",
    "plt.plot(np.arange(1, 8), inertia, \"-\", color=\"r\")\n",
    "plt.title(\"Elbow Method\", fontweight=\"bold\", fontsize=15)\n",
    "plt.xlabel('Number of Clusters')\n",
    "plt.ylabel('Inertia')\n",
    "plt.show()"
   ]
  },
  {
   "cell_type": "code",
   "execution_count": 38,
   "id": "1929a628",
   "metadata": {
    "slideshow": {
     "slide_type": "slide"
    }
   },
   "outputs": [
    {
     "name": "stdout",
     "output_type": "stream",
     "text": [
      "For n_clusters=2, the silhouette score is 0.4768742012411153\n",
      "For n_clusters=3, the silhouette score is 0.45886924421622227\n",
      "For n_clusters=4, the silhouette score is 0.3870043121628042\n",
      "For n_clusters=5, the silhouette score is 0.3850388918751252\n",
      "For n_clusters=6, the silhouette score is 0.39224535934307464\n",
      "For n_clusters=7, the silhouette score is 0.3947736915435532\n"
     ]
    }
   ],
   "source": [
    "# Silhouette analysis\n",
    "for num_clusters in range(2, 8):\n",
    "    \n",
    "    # initialize k-means\n",
    "    kmeans = KMeans(init=\"k-means++\", n_clusters=num_clusters, max_iter=50)\n",
    "    kmeans.fit(df_ml_scaled)\n",
    "    \n",
    "    # cluster labels\n",
    "    cluster_labels = kmeans.labels_\n",
    "    \n",
    "    # silhouette score\n",
    "    silhouette_avg = silhouette_score(df_ml_scaled, cluster_labels)\n",
    "    print(f\"For n_clusters={num_clusters}, the silhouette score is {silhouette_avg}\")"
   ]
  },
  {
   "cell_type": "markdown",
   "id": "e1ac78c7",
   "metadata": {
    "slideshow": {
     "slide_type": "slide"
    }
   },
   "source": [
    "### K-means with k=3 "
   ]
  },
  {
   "cell_type": "markdown",
   "id": "2d930d14",
   "metadata": {
    "slideshow": {
     "slide_type": "fragment"
    }
   },
   "source": [
    "We get the optimum value of k is 3. We’ll try clustering with k = 3"
   ]
  },
  {
   "cell_type": "code",
   "execution_count": 39,
   "id": "8cf8254f",
   "metadata": {
    "slideshow": {
     "slide_type": "fragment"
    }
   },
   "outputs": [],
   "source": [
    "kmeans = KMeans(n_clusters=3, max_iter=50)\n",
    "kmeans.fit(df_ml_scaled)\n",
    "y_kmeans = kmeans.predict(df_ml_scaled)\n",
    "\n",
    "labels = kmeans.labels_\n",
    "centroids = kmeans.cluster_centers_"
   ]
  },
  {
   "cell_type": "code",
   "execution_count": 40,
   "id": "7457091c",
   "metadata": {
    "slideshow": {
     "slide_type": "subslide"
    }
   },
   "outputs": [
    {
     "data": {
      "text/html": [
       "<div>\n",
       "<style scoped>\n",
       "    .dataframe tbody tr th:only-of-type {\n",
       "        vertical-align: middle;\n",
       "    }\n",
       "\n",
       "    .dataframe tbody tr th {\n",
       "        vertical-align: top;\n",
       "    }\n",
       "\n",
       "    .dataframe thead th {\n",
       "        text-align: right;\n",
       "    }\n",
       "</style>\n",
       "<table border=\"1\" class=\"dataframe\">\n",
       "  <thead>\n",
       "    <tr style=\"text-align: right;\">\n",
       "      <th></th>\n",
       "      <th>danceability</th>\n",
       "      <th>valence</th>\n",
       "      <th>album_name</th>\n",
       "      <th>song_title</th>\n",
       "      <th>cluster</th>\n",
       "    </tr>\n",
       "  </thead>\n",
       "  <tbody>\n",
       "    <tr>\n",
       "      <th>0</th>\n",
       "      <td>1.295314</td>\n",
       "      <td>1.902572</td>\n",
       "      <td>MOTOMAMI</td>\n",
       "      <td>SAOKO</td>\n",
       "      <td>1</td>\n",
       "    </tr>\n",
       "    <tr>\n",
       "      <th>1</th>\n",
       "      <td>0.312225</td>\n",
       "      <td>0.217104</td>\n",
       "      <td>MOTOMAMI</td>\n",
       "      <td>CANDY</td>\n",
       "      <td>0</td>\n",
       "    </tr>\n",
       "    <tr>\n",
       "      <th>2</th>\n",
       "      <td>0.978020</td>\n",
       "      <td>2.264108</td>\n",
       "      <td>MOTOMAMI</td>\n",
       "      <td>LA FAMA (with The Weeknd)</td>\n",
       "      <td>1</td>\n",
       "    </tr>\n",
       "    <tr>\n",
       "      <th>3</th>\n",
       "      <td>1.019633</td>\n",
       "      <td>2.019689</td>\n",
       "      <td>MOTOMAMI</td>\n",
       "      <td>BULERÍAS</td>\n",
       "      <td>1</td>\n",
       "    </tr>\n",
       "    <tr>\n",
       "      <th>4</th>\n",
       "      <td>1.092454</td>\n",
       "      <td>1.006372</td>\n",
       "      <td>MOTOMAMI</td>\n",
       "      <td>CHICKEN TERIYAKI</td>\n",
       "      <td>1</td>\n",
       "    </tr>\n",
       "  </tbody>\n",
       "</table>\n",
       "</div>"
      ],
      "text/plain": [
       "   danceability   valence album_name                 song_title  cluster\n",
       "0      1.295314  1.902572   MOTOMAMI                      SAOKO        1\n",
       "1      0.312225  0.217104   MOTOMAMI                      CANDY        0\n",
       "2      0.978020  2.264108   MOTOMAMI  LA FAMA (with The Weeknd)        1\n",
       "3      1.019633  2.019689   MOTOMAMI                   BULERÍAS        1\n",
       "4      1.092454  1.006372   MOTOMAMI           CHICKEN TERIYAKI        1"
      ]
     },
     "execution_count": 40,
     "metadata": {},
     "output_type": "execute_result"
    }
   ],
   "source": [
    "df_ml_scaled[\"album_name\"] = df_ml[\"album_name\"]\n",
    "df_ml_scaled[\"song_title\"] = df_ml[\"song_title\"]\n",
    "df_ml_scaled[\"cluster\"] = y_kmeans\n",
    "df_ml_scaled.head()"
   ]
  },
  {
   "cell_type": "code",
   "execution_count": 41,
   "id": "d37fd4e0",
   "metadata": {
    "slideshow": {
     "slide_type": "slide"
    },
    "tags": [
     "to_remove"
    ]
   },
   "outputs": [
    {
     "data": {
      "image/png": "[encoded data removed]",
      "text/plain": [
       "<Figure size 864x576 with 2 Axes>"
      ]
     },
     "metadata": {},
     "output_type": "display_data"
    }
   ],
   "source": [
    "fig, axes = plt.subplots(1, 2, figsize=(12,8))\n",
    "\n",
    "# Subplot 1 \n",
    "sns.scatterplot(x=\"danceability\", y=\"valence\", \n",
    "                data=df_ml_scaled, \n",
    "                hue=\"album_name\", \n",
    "                palette=album_colors,\n",
    "                s=70,\n",
    "                ax=axes[0])\n",
    "\n",
    "axes[0].set_title(\"Danceability vs. Valence\", \n",
    "             fontweight=\"bold\", \n",
    "             fontsize=15)\n",
    "\n",
    "# Subplot 2\n",
    "sns.scatterplot(x=\"danceability\", y=\"valence\", \n",
    "                data=df_ml_scaled, \n",
    "                hue=\"cluster\",\n",
    "                palette=\"viridis\",\n",
    "                s=70,\n",
    "                ax=axes[1])\n",
    "\n",
    "sns.scatterplot(kmeans.cluster_centers_[:, 0], \n",
    "            kmeans.cluster_centers_[:, 1], \n",
    "            s=200,                             \n",
    "               marker=\"+\",\n",
    "                color='r',\n",
    "                linewidth=2,\n",
    "               ax=axes[1])\n",
    "\n",
    "axes[1].set_title(\"K-Means Clusters\", \n",
    "             fontweight=\"bold\", \n",
    "             fontsize=15)\n",
    "\n",
    "plt.show()"
   ]
  },
  {
   "cell_type": "markdown",
   "id": "02c9d7b6",
   "metadata": {
    "slideshow": {
     "slide_type": "slide"
    }
   },
   "source": [
    "### Songs of the Cluster Nº 0"
   ]
  },
  {
   "cell_type": "code",
   "execution_count": 42,
   "id": "cadaf351",
   "metadata": {
    "slideshow": {
     "slide_type": "fragment"
    }
   },
   "outputs": [
    {
     "data": {
      "text/html": [
       "<div>\n",
       "<style scoped>\n",
       "    .dataframe tbody tr th:only-of-type {\n",
       "        vertical-align: middle;\n",
       "    }\n",
       "\n",
       "    .dataframe tbody tr th {\n",
       "        vertical-align: top;\n",
       "    }\n",
       "\n",
       "    .dataframe thead th {\n",
       "        text-align: right;\n",
       "    }\n",
       "</style>\n",
       "<table border=\"1\" class=\"dataframe\">\n",
       "  <thead>\n",
       "    <tr style=\"text-align: right;\">\n",
       "      <th></th>\n",
       "      <th>album_name</th>\n",
       "      <th>song_title</th>\n",
       "      <th>cluster</th>\n",
       "    </tr>\n",
       "  </thead>\n",
       "  <tbody>\n",
       "    <tr>\n",
       "      <th>1</th>\n",
       "      <td>MOTOMAMI</td>\n",
       "      <td>CANDY</td>\n",
       "      <td>0</td>\n",
       "    </tr>\n",
       "    <tr>\n",
       "      <th>5</th>\n",
       "      <td>MOTOMAMI</td>\n",
       "      <td>HENTAI</td>\n",
       "      <td>0</td>\n",
       "    </tr>\n",
       "    <tr>\n",
       "      <th>9</th>\n",
       "      <td>MOTOMAMI</td>\n",
       "      <td>DIABLO</td>\n",
       "      <td>0</td>\n",
       "    </tr>\n",
       "    <tr>\n",
       "      <th>10</th>\n",
       "      <td>MOTOMAMI</td>\n",
       "      <td>DELIRIO DE GRANDEZA</td>\n",
       "      <td>0</td>\n",
       "    </tr>\n",
       "    <tr>\n",
       "      <th>13</th>\n",
       "      <td>MOTOMAMI</td>\n",
       "      <td>Abcdefg</td>\n",
       "      <td>0</td>\n",
       "    </tr>\n",
       "    <tr>\n",
       "      <th>14</th>\n",
       "      <td>MOTOMAMI</td>\n",
       "      <td>LA COMBI VERSACE (feat. Tokischa)</td>\n",
       "      <td>0</td>\n",
       "    </tr>\n",
       "    <tr>\n",
       "      <th>17</th>\n",
       "      <td>El Mal Querer</td>\n",
       "      <td>QUE NO SALGA LA LUNA - Cap.2: Boda</td>\n",
       "      <td>0</td>\n",
       "    </tr>\n",
       "    <tr>\n",
       "      <th>18</th>\n",
       "      <td>El Mal Querer</td>\n",
       "      <td>PIENSO EN TU MIRÁ - Cap.3: Celos</td>\n",
       "      <td>0</td>\n",
       "    </tr>\n",
       "    <tr>\n",
       "      <th>19</th>\n",
       "      <td>El Mal Querer</td>\n",
       "      <td>DE AQUÍ NO SALES - Cap.4: Disputa</td>\n",
       "      <td>0</td>\n",
       "    </tr>\n",
       "    <tr>\n",
       "      <th>21</th>\n",
       "      <td>El Mal Querer</td>\n",
       "      <td>PRESO - Cap.6: Clausura</td>\n",
       "      <td>0</td>\n",
       "    </tr>\n",
       "    <tr>\n",
       "      <th>22</th>\n",
       "      <td>El Mal Querer</td>\n",
       "      <td>BAGDAD - Cap.7: Liturgia</td>\n",
       "      <td>0</td>\n",
       "    </tr>\n",
       "    <tr>\n",
       "      <th>26</th>\n",
       "      <td>El Mal Querer</td>\n",
       "      <td>A NINGÚN HOMBRE - Cap.11: Poder</td>\n",
       "      <td>0</td>\n",
       "    </tr>\n",
       "    <tr>\n",
       "      <th>32</th>\n",
       "      <td>Los Ángeles</td>\n",
       "      <td>Que Se Muere Que Se Muere</td>\n",
       "      <td>0</td>\n",
       "    </tr>\n",
       "    <tr>\n",
       "      <th>35</th>\n",
       "      <td>Los Ángeles</td>\n",
       "      <td>Por Castigarme Tan Fuerte</td>\n",
       "      <td>0</td>\n",
       "    </tr>\n",
       "  </tbody>\n",
       "</table>\n",
       "</div>"
      ],
      "text/plain": [
       "       album_name                          song_title  cluster\n",
       "1        MOTOMAMI                               CANDY        0\n",
       "5        MOTOMAMI                              HENTAI        0\n",
       "9        MOTOMAMI                              DIABLO        0\n",
       "10       MOTOMAMI                 DELIRIO DE GRANDEZA        0\n",
       "13       MOTOMAMI                             Abcdefg        0\n",
       "14       MOTOMAMI   LA COMBI VERSACE (feat. Tokischa)        0\n",
       "17  El Mal Querer  QUE NO SALGA LA LUNA - Cap.2: Boda        0\n",
       "18  El Mal Querer    PIENSO EN TU MIRÁ - Cap.3: Celos        0\n",
       "19  El Mal Querer   DE AQUÍ NO SALES - Cap.4: Disputa        0\n",
       "21  El Mal Querer             PRESO - Cap.6: Clausura        0\n",
       "22  El Mal Querer            BAGDAD - Cap.7: Liturgia        0\n",
       "26  El Mal Querer     A NINGÚN HOMBRE - Cap.11: Poder        0\n",
       "32    Los Ángeles           Que Se Muere Que Se Muere        0\n",
       "35    Los Ángeles           Por Castigarme Tan Fuerte        0"
      ]
     },
     "execution_count": 42,
     "metadata": {},
     "output_type": "execute_result"
    }
   ],
   "source": [
    "df_ml_scaled.loc[df_ml_scaled[\"cluster\"] == 0, [\"album_name\", \"song_title\", \"cluster\"]]"
   ]
  },
  {
   "cell_type": "markdown",
   "id": "d493207c",
   "metadata": {
    "slideshow": {
     "slide_type": "slide"
    }
   },
   "source": [
    "### Songs of the Cluster Nº 1"
   ]
  },
  {
   "cell_type": "code",
   "execution_count": 43,
   "id": "8dfa5837",
   "metadata": {
    "slideshow": {
     "slide_type": "fragment"
    }
   },
   "outputs": [
    {
     "data": {
      "text/html": [
       "<div>\n",
       "<style scoped>\n",
       "    .dataframe tbody tr th:only-of-type {\n",
       "        vertical-align: middle;\n",
       "    }\n",
       "\n",
       "    .dataframe tbody tr th {\n",
       "        vertical-align: top;\n",
       "    }\n",
       "\n",
       "    .dataframe thead th {\n",
       "        text-align: right;\n",
       "    }\n",
       "</style>\n",
       "<table border=\"1\" class=\"dataframe\">\n",
       "  <thead>\n",
       "    <tr style=\"text-align: right;\">\n",
       "      <th></th>\n",
       "      <th>album_name</th>\n",
       "      <th>song_title</th>\n",
       "      <th>cluster</th>\n",
       "    </tr>\n",
       "  </thead>\n",
       "  <tbody>\n",
       "    <tr>\n",
       "      <th>0</th>\n",
       "      <td>MOTOMAMI</td>\n",
       "      <td>SAOKO</td>\n",
       "      <td>1</td>\n",
       "    </tr>\n",
       "    <tr>\n",
       "      <th>2</th>\n",
       "      <td>MOTOMAMI</td>\n",
       "      <td>LA FAMA (with The Weeknd)</td>\n",
       "      <td>1</td>\n",
       "    </tr>\n",
       "    <tr>\n",
       "      <th>3</th>\n",
       "      <td>MOTOMAMI</td>\n",
       "      <td>BULERÍAS</td>\n",
       "      <td>1</td>\n",
       "    </tr>\n",
       "    <tr>\n",
       "      <th>4</th>\n",
       "      <td>MOTOMAMI</td>\n",
       "      <td>CHICKEN TERIYAKI</td>\n",
       "      <td>1</td>\n",
       "    </tr>\n",
       "    <tr>\n",
       "      <th>6</th>\n",
       "      <td>MOTOMAMI</td>\n",
       "      <td>BIZCOCHITO</td>\n",
       "      <td>1</td>\n",
       "    </tr>\n",
       "    <tr>\n",
       "      <th>8</th>\n",
       "      <td>MOTOMAMI</td>\n",
       "      <td>MOTOMAMI</td>\n",
       "      <td>1</td>\n",
       "    </tr>\n",
       "    <tr>\n",
       "      <th>16</th>\n",
       "      <td>El Mal Querer</td>\n",
       "      <td>MALAMENTE - Cap.1: Augurio</td>\n",
       "      <td>1</td>\n",
       "    </tr>\n",
       "    <tr>\n",
       "      <th>23</th>\n",
       "      <td>El Mal Querer</td>\n",
       "      <td>DI MI NOMBRE - Cap.8: Éxtasis</td>\n",
       "      <td>1</td>\n",
       "    </tr>\n",
       "  </tbody>\n",
       "</table>\n",
       "</div>"
      ],
      "text/plain": [
       "       album_name                     song_title  cluster\n",
       "0        MOTOMAMI                          SAOKO        1\n",
       "2        MOTOMAMI      LA FAMA (with The Weeknd)        1\n",
       "3        MOTOMAMI                       BULERÍAS        1\n",
       "4        MOTOMAMI               CHICKEN TERIYAKI        1\n",
       "6        MOTOMAMI                     BIZCOCHITO        1\n",
       "8        MOTOMAMI                       MOTOMAMI        1\n",
       "16  El Mal Querer     MALAMENTE - Cap.1: Augurio        1\n",
       "23  El Mal Querer  DI MI NOMBRE - Cap.8: Éxtasis        1"
      ]
     },
     "execution_count": 43,
     "metadata": {},
     "output_type": "execute_result"
    }
   ],
   "source": [
    "df_ml_scaled.loc[df_ml_scaled[\"cluster\"] == 1, [\"album_name\", \"song_title\", \"cluster\"]]"
   ]
  },
  {
   "cell_type": "markdown",
   "id": "b9decbf3",
   "metadata": {
    "slideshow": {
     "slide_type": "slide"
    }
   },
   "source": [
    "### Songs of the Cluster Nº 2"
   ]
  },
  {
   "cell_type": "code",
   "execution_count": 44,
   "id": "0feb20c5",
   "metadata": {
    "slideshow": {
     "slide_type": "fragment"
    }
   },
   "outputs": [
    {
     "data": {
      "text/html": [
       "<div>\n",
       "<style scoped>\n",
       "    .dataframe tbody tr th:only-of-type {\n",
       "        vertical-align: middle;\n",
       "    }\n",
       "\n",
       "    .dataframe tbody tr th {\n",
       "        vertical-align: top;\n",
       "    }\n",
       "\n",
       "    .dataframe thead th {\n",
       "        text-align: right;\n",
       "    }\n",
       "</style>\n",
       "<table border=\"1\" class=\"dataframe\">\n",
       "  <thead>\n",
       "    <tr style=\"text-align: right;\">\n",
       "      <th></th>\n",
       "      <th>album_name</th>\n",
       "      <th>song_title</th>\n",
       "      <th>cluster</th>\n",
       "    </tr>\n",
       "  </thead>\n",
       "  <tbody>\n",
       "    <tr>\n",
       "      <th>7</th>\n",
       "      <td>MOTOMAMI</td>\n",
       "      <td>G3 N15</td>\n",
       "      <td>2</td>\n",
       "    </tr>\n",
       "    <tr>\n",
       "      <th>11</th>\n",
       "      <td>MOTOMAMI</td>\n",
       "      <td>CUUUUuuuuuute</td>\n",
       "      <td>2</td>\n",
       "    </tr>\n",
       "    <tr>\n",
       "      <th>12</th>\n",
       "      <td>MOTOMAMI</td>\n",
       "      <td>COMO UN G</td>\n",
       "      <td>2</td>\n",
       "    </tr>\n",
       "    <tr>\n",
       "      <th>15</th>\n",
       "      <td>MOTOMAMI</td>\n",
       "      <td>SAKURA</td>\n",
       "      <td>2</td>\n",
       "    </tr>\n",
       "    <tr>\n",
       "      <th>20</th>\n",
       "      <td>El Mal Querer</td>\n",
       "      <td>RENIEGO - Cap.5: Lamento</td>\n",
       "      <td>2</td>\n",
       "    </tr>\n",
       "    <tr>\n",
       "      <th>24</th>\n",
       "      <td>El Mal Querer</td>\n",
       "      <td>NANA - Cap.9: Concepción</td>\n",
       "      <td>2</td>\n",
       "    </tr>\n",
       "    <tr>\n",
       "      <th>25</th>\n",
       "      <td>El Mal Querer</td>\n",
       "      <td>MALDICIÓN - Cap.10: Cordura</td>\n",
       "      <td>2</td>\n",
       "    </tr>\n",
       "    <tr>\n",
       "      <th>27</th>\n",
       "      <td>Los Ángeles</td>\n",
       "      <td>Si Tú Supieras Compañero</td>\n",
       "      <td>2</td>\n",
       "    </tr>\n",
       "    <tr>\n",
       "      <th>28</th>\n",
       "      <td>Los Ángeles</td>\n",
       "      <td>De Plata</td>\n",
       "      <td>2</td>\n",
       "    </tr>\n",
       "    <tr>\n",
       "      <th>29</th>\n",
       "      <td>Los Ángeles</td>\n",
       "      <td>Nos Quedamos Solitos</td>\n",
       "      <td>2</td>\n",
       "    </tr>\n",
       "    <tr>\n",
       "      <th>30</th>\n",
       "      <td>Los Ángeles</td>\n",
       "      <td>Catalina</td>\n",
       "      <td>2</td>\n",
       "    </tr>\n",
       "    <tr>\n",
       "      <th>31</th>\n",
       "      <td>Los Ángeles</td>\n",
       "      <td>Día 14 De Abril</td>\n",
       "      <td>2</td>\n",
       "    </tr>\n",
       "    <tr>\n",
       "      <th>33</th>\n",
       "      <td>Los Ángeles</td>\n",
       "      <td>Por Mi Puerta No Lo Pasen</td>\n",
       "      <td>2</td>\n",
       "    </tr>\n",
       "    <tr>\n",
       "      <th>34</th>\n",
       "      <td>Los Ángeles</td>\n",
       "      <td>Te Venero</td>\n",
       "      <td>2</td>\n",
       "    </tr>\n",
       "    <tr>\n",
       "      <th>36</th>\n",
       "      <td>Los Ángeles</td>\n",
       "      <td>La Hija De Juan Simón</td>\n",
       "      <td>2</td>\n",
       "    </tr>\n",
       "    <tr>\n",
       "      <th>37</th>\n",
       "      <td>Los Ángeles</td>\n",
       "      <td>El Redentor</td>\n",
       "      <td>2</td>\n",
       "    </tr>\n",
       "    <tr>\n",
       "      <th>38</th>\n",
       "      <td>Los Ángeles</td>\n",
       "      <td>I See A Darkness</td>\n",
       "      <td>2</td>\n",
       "    </tr>\n",
       "  </tbody>\n",
       "</table>\n",
       "</div>"
      ],
      "text/plain": [
       "       album_name                   song_title  cluster\n",
       "7        MOTOMAMI                       G3 N15        2\n",
       "11       MOTOMAMI                CUUUUuuuuuute        2\n",
       "12       MOTOMAMI                    COMO UN G        2\n",
       "15       MOTOMAMI                       SAKURA        2\n",
       "20  El Mal Querer     RENIEGO - Cap.5: Lamento        2\n",
       "24  El Mal Querer     NANA - Cap.9: Concepción        2\n",
       "25  El Mal Querer  MALDICIÓN - Cap.10: Cordura        2\n",
       "27    Los Ángeles     Si Tú Supieras Compañero        2\n",
       "28    Los Ángeles                     De Plata        2\n",
       "29    Los Ángeles         Nos Quedamos Solitos        2\n",
       "30    Los Ángeles                     Catalina        2\n",
       "31    Los Ángeles              Día 14 De Abril        2\n",
       "33    Los Ángeles    Por Mi Puerta No Lo Pasen        2\n",
       "34    Los Ángeles                    Te Venero        2\n",
       "36    Los Ángeles        La Hija De Juan Simón        2\n",
       "37    Los Ángeles                  El Redentor        2\n",
       "38    Los Ángeles             I See A Darkness        2"
      ]
     },
     "execution_count": 44,
     "metadata": {},
     "output_type": "execute_result"
    }
   ],
   "source": [
    "df_ml_scaled.loc[df_ml_scaled[\"cluster\"] == 2, [\"album_name\", \"song_title\", \"cluster\"]]"
   ]
  },
  {
   "cell_type": "markdown",
   "id": "2e88a9ed",
   "metadata": {
    "slideshow": {
     "slide_type": "slide"
    }
   },
   "source": [
    "## Conclusions"
   ]
  },
  {
   "cell_type": "markdown",
   "id": "c7af06bc",
   "metadata": {
    "slideshow": {
     "slide_type": "subslide"
    }
   },
   "source": [
    "- Rosalía has been decreasing the duration of the songs, in average, in each of her albums: MOTOMAMI has the shortest average songs length of the 3 albums.\n",
    "\n",
    "\n",
    "- The variety of genres in MOTOMAMI is noticeable compared to the other 2 albums (see the plot Danceability vs. Valence).\n",
    "\n",
    "\n",
    "- MOTOMAMI has much happier songs, while Los Angeles has sad songs.\n",
    "\n",
    "\n",
    "- MOTOMAMI has the most spoken-word songs compared to the other 2 albums. The comparison with Los Angeles is interesting: Los Angeles has almost no spoken-word songs.\n",
    "\n",
    "\n",
    "- Rosalía gives a fundamental role to acoustic: all albums are characterized by having a high acoustic content. Los Angeles stands out.\n",
    "\n",
    "\n",
    "- Grouping the songs in 3 clusters using the K-Means algorithm, we can say that MOTOMAMI has a good presence in all the clusters, showing the variety of songs on the album, while Los Angeles has almost presence in only 1 of them. "
   ]
  },
  {
   "cell_type": "markdown",
   "id": "057dd949",
   "metadata": {
    "slideshow": {
     "slide_type": "skip"
    }
   },
   "source": [
    "## Next Steps\n",
    "- Using feature reduction techniques such as Principal Component Analysis (PCA) to only plot combinations of features that are important.\n",
    "\n",
    "\n",
    "- Complement the analysis with a Hierarchical Clustering, using Dendogram plots.\n",
    "\n",
    "\n",
    "- Analyze the featureslike it was done before (with valence, energy, speechiness, acousticness, etc.), but now for each cluster."
   ]
  }
 ],
 "metadata": {
  "kernelspec": {
   "display_name": "Python 3 (ipykernel)",
   "language": "python",
   "name": "python3"
  },
  "language_info": {
   "codemirror_mode": {
    "name": "ipython",
    "version": 3
   },
   "file_extension": ".py",
   "mimetype": "text/x-python",
   "name": "python",
   "nbconvert_exporter": "python",
   "pygments_lexer": "ipython3",
   "version": "3.10.2"
  }
 },
 "nbformat": 4,
 "nbformat_minor": 5
}
